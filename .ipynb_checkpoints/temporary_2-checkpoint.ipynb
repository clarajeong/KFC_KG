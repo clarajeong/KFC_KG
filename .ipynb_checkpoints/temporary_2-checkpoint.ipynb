{
 "cells": [
  {
   "cell_type": "code",
   "execution_count": 3,
   "id": "90fbcbd3-da3f-45f4-9a1c-2ac24865e5c3",
   "metadata": {},
   "outputs": [
    {
     "name": "stdout",
     "output_type": "stream",
     "text": [
      "False\n",
      "True\n"
     ]
    },
    {
     "name": "stderr",
     "output_type": "stream",
     "text": [
      "[nltk_data] Downloading package stopwords to /root/nltk_data...\n",
      "[nltk_data]   Package stopwords is already up-to-date!\n"
     ]
    }
   ],
   "source": [
    "# import nltk\n",
    "# from nltk.corpus import stopwords\n",
    "# nltk.download(\"stopwords\")\n",
    "# stop_words = set(stopwords.words('english'))\n",
    "# print(\"The\" in stop_words)\n",
    "# print(\"the\" in stop_words)"
   ]
  },
  {
   "cell_type": "code",
   "execution_count": 1,
   "id": "eb5d33eb-6b0a-4105-b347-3543d145b38b",
   "metadata": {},
   "outputs": [
    {
     "name": "stderr",
     "output_type": "stream",
     "text": [
      "[nltk_data] Downloading package punkt to /root/nltk_data...\n",
      "[nltk_data]   Package punkt is already up-to-date!\n",
      "[nltk_data] Downloading package averaged_perceptron_tagger to\n",
      "[nltk_data]     /root/nltk_data...\n",
      "[nltk_data]   Package averaged_perceptron_tagger is already up-to-\n",
      "[nltk_data]       date!\n",
      "[nltk_data] Downloading package stopwords to /root/nltk_data...\n",
      "[nltk_data]   Package stopwords is already up-to-date!\n"
     ]
    }
   ],
   "source": [
    "import entity"
   ]
  },
  {
   "cell_type": "code",
   "execution_count": 2,
   "id": "aa1b1c28-e33e-411c-b16c-69c34caf9ed4",
   "metadata": {},
   "outputs": [
    {
     "name": "stderr",
     "output_type": "stream",
     "text": [
      "  0%|▎                                                                                                                      | 1/461 [00:03<24:32,  3.20s/it]"
     ]
    },
    {
     "name": "stdout",
     "output_type": "stream",
     "text": [
      "Abraham Lincoln is People\n"
     ]
    },
    {
     "name": "stderr",
     "output_type": "stream",
     "text": [
      "  0%|▌                                                                                                                      | 2/461 [00:06<22:52,  2.99s/it]"
     ]
    },
    {
     "name": "stdout",
     "output_type": "stream",
     "text": [
      "Southwestern United States is Geography\n"
     ]
    },
    {
     "name": "stderr",
     "output_type": "stream",
     "text": [
      "  2%|██▊                                                                                                                   | 11/461 [00:20<14:17,  1.91s/it]"
     ]
    },
    {
     "name": "stdout",
     "output_type": "stream",
     "text": [
      "West Virginia is Geography\n"
     ]
    },
    {
     "name": "stderr",
     "output_type": "stream",
     "text": [
      "  3%|███                                                                                                                   | 12/461 [00:22<16:05,  2.15s/it]"
     ]
    },
    {
     "name": "stdout",
     "output_type": "stream",
     "text": [
      "Indiana is Geography\n"
     ]
    },
    {
     "name": "stderr",
     "output_type": "stream",
     "text": [
      "  5%|█████▉                                                                                                                | 23/461 [00:45<16:23,  2.25s/it]"
     ]
    },
    {
     "name": "stdout",
     "output_type": "stream",
     "text": [
      "Mexico is Geography\n"
     ]
    },
    {
     "name": "stderr",
     "output_type": "stream",
     "text": [
      "  5%|██████▏                                                                                                               | 24/461 [00:47<15:21,  2.11s/it]"
     ]
    },
    {
     "name": "stdout",
     "output_type": "stream",
     "text": [
      "Colonia Díaz is Geography\n"
     ]
    },
    {
     "name": "stderr",
     "output_type": "stream",
     "text": [
      "  6%|██████▋                                                                                                               | 26/461 [00:50<12:05,  1.67s/it]"
     ]
    },
    {
     "name": "stdout",
     "output_type": "stream",
     "text": [
      "the Department of Agriculture is Geography\n"
     ]
    },
    {
     "name": "stderr",
     "output_type": "stream",
     "text": [
      "  6%|███████▍                                                                                                              | 29/461 [00:52<08:31,  1.18s/it]"
     ]
    },
    {
     "name": "stdout",
     "output_type": "stream",
     "text": [
      "Council of State Governments South is Incident\n"
     ]
    },
    {
     "name": "stderr",
     "output_type": "stream",
     "text": [
      "  7%|███████▋                                                                                                              | 30/461 [00:54<10:50,  1.51s/it]"
     ]
    },
    {
     "name": "stdout",
     "output_type": "stream",
     "text": [
      "Alabama is Geography\n"
     ]
    },
    {
     "name": "stderr",
     "output_type": "stream",
     "text": [
      "  7%|███████▉                                                                                                              | 31/461 [00:57<12:27,  1.74s/it]"
     ]
    },
    {
     "name": "stdout",
     "output_type": "stream",
     "text": [
      "Arkansas is Geography\n"
     ]
    },
    {
     "name": "stderr",
     "output_type": "stream",
     "text": [
      "  7%|████████▏                                                                                                             | 32/461 [01:01<15:20,  2.14s/it]"
     ]
    },
    {
     "name": "stdout",
     "output_type": "stream",
     "text": [
      "Florida is Geography\n"
     ]
    },
    {
     "name": "stderr",
     "output_type": "stream",
     "text": [
      "  7%|████████▋                                                                                                             | 34/461 [01:05<15:59,  2.25s/it]"
     ]
    },
    {
     "name": "stdout",
     "output_type": "stream",
     "text": [
      "Kentucky is Geography\n"
     ]
    },
    {
     "name": "stderr",
     "output_type": "stream",
     "text": [
      "  8%|████████▉                                                                                                             | 35/461 [01:08<16:57,  2.39s/it]"
     ]
    },
    {
     "name": "stdout",
     "output_type": "stream",
     "text": [
      "Louisiana is Geography\n"
     ]
    },
    {
     "name": "stderr",
     "output_type": "stream",
     "text": [
      "  8%|█████████▏                                                                                                            | 36/461 [01:11<17:46,  2.51s/it]"
     ]
    },
    {
     "name": "stdout",
     "output_type": "stream",
     "text": [
      "Mississippi is Geography\n"
     ]
    },
    {
     "name": "stderr",
     "output_type": "stream",
     "text": [
      "  8%|█████████▍                                                                                                            | 37/461 [01:13<17:37,  2.50s/it]"
     ]
    },
    {
     "name": "stdout",
     "output_type": "stream",
     "text": [
      "Missouri is Geography\n"
     ]
    },
    {
     "name": "stderr",
     "output_type": "stream",
     "text": [
      "  8%|█████████▋                                                                                                            | 38/461 [01:16<18:36,  2.64s/it]"
     ]
    },
    {
     "name": "stdout",
     "output_type": "stream",
     "text": [
      "North Carolina is Geography\n"
     ]
    },
    {
     "name": "stderr",
     "output_type": "stream",
     "text": [
      "  8%|█████████▉                                                                                                            | 39/461 [01:19<18:37,  2.65s/it]"
     ]
    },
    {
     "name": "stdout",
     "output_type": "stream",
     "text": [
      "Oklahoma is Geography\n"
     ]
    },
    {
     "name": "stderr",
     "output_type": "stream",
     "text": [
      "  9%|██████████▏                                                                                                           | 40/461 [01:22<18:43,  2.67s/it]"
     ]
    },
    {
     "name": "stdout",
     "output_type": "stream",
     "text": [
      "South Carolina is Geography\n"
     ]
    },
    {
     "name": "stderr",
     "output_type": "stream",
     "text": [
      "  9%|██████████▍                                                                                                           | 41/461 [01:25<19:22,  2.77s/it]"
     ]
    },
    {
     "name": "stdout",
     "output_type": "stream",
     "text": [
      "Tennessee is Geography\n"
     ]
    },
    {
     "name": "stderr",
     "output_type": "stream",
     "text": [
      "  9%|██████████▊                                                                                                           | 42/461 [01:27<19:24,  2.78s/it]"
     ]
    },
    {
     "name": "stdout",
     "output_type": "stream",
     "text": [
      "Texas is Geography\n"
     ]
    },
    {
     "name": "stderr",
     "output_type": "stream",
     "text": [
      "  9%|███████████                                                                                                           | 43/461 [01:31<20:13,  2.90s/it]"
     ]
    },
    {
     "name": "stdout",
     "output_type": "stream",
     "text": [
      "Virginia is Geography\n"
     ]
    },
    {
     "name": "stderr",
     "output_type": "stream",
     "text": [
      " 10%|████████████                                                                                                          | 47/461 [01:33<09:58,  1.45s/it]"
     ]
    },
    {
     "name": "stdout",
     "output_type": "stream",
     "text": [
      "the Atlantic Ocean is Geography\n"
     ]
    },
    {
     "name": "stderr",
     "output_type": "stream",
     "text": [
      " 10%|████████████▎                                                                                                         | 48/461 [01:36<11:47,  1.71s/it]"
     ]
    },
    {
     "name": "stdout",
     "output_type": "stream",
     "text": [
      "the Western United States is Geography\n"
     ]
    },
    {
     "name": "stderr",
     "output_type": "stream",
     "text": [
      " 11%|████████████▌                                                                                                         | 49/461 [01:39<13:27,  1.96s/it]"
     ]
    },
    {
     "name": "stdout",
     "output_type": "stream",
     "text": [
      "The U.S. Supreme Court is Geography\n"
     ]
    },
    {
     "name": "stderr",
     "output_type": "stream",
     "text": [
      " 11%|████████████▊                                                                                                         | 50/461 [01:41<14:36,  2.13s/it]"
     ]
    },
    {
     "name": "stdout",
     "output_type": "stream",
     "text": [
      "the Indiana Land Company\" is Geography\n"
     ]
    },
    {
     "name": "stderr",
     "output_type": "stream",
     "text": [
      " 13%|██████████████▊                                                                                                       | 58/461 [01:46<06:03,  1.11it/s]"
     ]
    },
    {
     "name": "stdout",
     "output_type": "stream",
     "text": [
      "Illinois is Geography\n"
     ]
    },
    {
     "name": "stderr",
     "output_type": "stream",
     "text": [
      " 13%|███████████████▊                                                                                                      | 62/461 [01:48<05:07,  1.30it/s]"
     ]
    },
    {
     "name": "stdout",
     "output_type": "stream",
     "text": [
      "The Angel Mounds is Geography\n"
     ]
    },
    {
     "name": "stderr",
     "output_type": "stream",
     "text": [
      " 17%|████████████████████▏                                                                                                 | 79/461 [02:02<05:25,  1.17it/s]"
     ]
    },
    {
     "name": "stdout",
     "output_type": "stream",
     "text": [
      "Colorado River is Geography\n"
     ]
    },
    {
     "name": "stderr",
     "output_type": "stream",
     "text": [
      " 18%|████████████████████▉                                                                                                 | 82/461 [02:04<05:12,  1.21it/s]"
     ]
    },
    {
     "name": "stdout",
     "output_type": "stream",
     "text": [
      "Lafayette, Lake Charles is People\n"
     ]
    },
    {
     "name": "stderr",
     "output_type": "stream",
     "text": [
      " 19%|██████████████████████▎                                                                                               | 87/461 [02:09<05:17,  1.18it/s]"
     ]
    },
    {
     "name": "stdout",
     "output_type": "stream",
     "text": [
      "Houston is Geography\n"
     ]
    },
    {
     "name": "stderr",
     "output_type": "stream",
     "text": [
      " 19%|██████████████████████▊                                                                                               | 89/461 [02:14<07:51,  1.27s/it]"
     ]
    },
    {
     "name": "stdout",
     "output_type": "stream",
     "text": [
      "Rio Grande is Geography\n"
     ]
    },
    {
     "name": "stderr",
     "output_type": "stream",
     "text": [
      " 20%|███████████████████████▎                                                                                              | 91/461 [02:17<07:52,  1.28s/it]"
     ]
    },
    {
     "name": "stdout",
     "output_type": "stream",
     "text": [
      "Las Vegas is Geography\n"
     ]
    },
    {
     "name": "stderr",
     "output_type": "stream",
     "text": [
      " 20%|███████████████████████▌                                                                                              | 92/461 [02:19<09:13,  1.50s/it]"
     ]
    },
    {
     "name": "stdout",
     "output_type": "stream",
     "text": [
      "Nevada is Geography\n"
     ]
    },
    {
     "name": "stderr",
     "output_type": "stream",
     "text": [
      " 23%|██████████████████████████▋                                                                                          | 105/461 [02:24<03:11,  1.85it/s]"
     ]
    },
    {
     "name": "stdout",
     "output_type": "stream",
     "text": [
      "Salmon P. Chase is People\n"
     ]
    },
    {
     "name": "stderr",
     "output_type": "stream",
     "text": [
      " 25%|█████████████████████████████▏                                                                                       | 115/461 [02:40<08:49,  1.53s/it]"
     ]
    },
    {
     "name": "stdout",
     "output_type": "stream",
     "text": [
      "Acadia is Geography\n"
     ]
    },
    {
     "name": "stderr",
     "output_type": "stream",
     "text": [
      " 28%|████████████████████████████████▉                                                                                    | 130/461 [02:45<02:44,  2.01it/s]"
     ]
    },
    {
     "name": "stdout",
     "output_type": "stream",
     "text": [
      "San Bernardino is Geography\n"
     ]
    },
    {
     "name": "stderr",
     "output_type": "stream",
     "text": [
      " 28%|█████████████████████████████████▏                                                                                   | 131/461 [02:48<04:04,  1.35it/s]"
     ]
    },
    {
     "name": "stdout",
     "output_type": "stream",
     "text": [
      "California is Geography\n"
     ]
    },
    {
     "name": "stderr",
     "output_type": "stream",
     "text": [
      " 29%|██████████████████████████████████▎                                                                                  | 135/461 [02:53<05:25,  1.00it/s]"
     ]
    },
    {
     "name": "stdout",
     "output_type": "stream",
     "text": [
      "Montana is Geography\n"
     ]
    },
    {
     "name": "stderr",
     "output_type": "stream",
     "text": [
      " 30%|███████████████████████████████████▎                                                                                 | 139/461 [02:56<04:36,  1.16it/s]"
     ]
    },
    {
     "name": "stdout",
     "output_type": "stream",
     "text": [
      "Maryland is Geography\n"
     ]
    },
    {
     "name": "stderr",
     "output_type": "stream",
     "text": [
      " 30%|███████████████████████████████████▌                                                                                 | 140/461 [02:59<05:47,  1.08s/it]"
     ]
    },
    {
     "name": "stdout",
     "output_type": "stream",
     "text": [
      "Delaware is Geography\n"
     ]
    },
    {
     "name": "stderr",
     "output_type": "stream",
     "text": [
      " 31%|████████████████████████████████████                                                                                 | 142/461 [03:04<08:18,  1.56s/it]"
     ]
    },
    {
     "name": "stdout",
     "output_type": "stream",
     "text": [
      "D.C. is Geography\n"
     ]
    },
    {
     "name": "stderr",
     "output_type": "stream",
     "text": [
      " 33%|███████████████████████████████████████                                                                              | 154/461 [03:14<04:13,  1.21it/s]"
     ]
    },
    {
     "name": "stdout",
     "output_type": "stream",
     "text": [
      "Death Valley is Geography\n"
     ]
    },
    {
     "name": "stderr",
     "output_type": "stream",
     "text": [
      " 34%|████████████████████████████████████████                                                                             | 158/461 [03:19<05:08,  1.02s/it]"
     ]
    },
    {
     "name": "stdout",
     "output_type": "stream",
     "text": [
      "Attakapa Native Americans is Geography\n"
     ]
    },
    {
     "name": "stderr",
     "output_type": "stream",
     "text": [
      " 34%|████████████████████████████████████████▎                                                                            | 159/461 [03:21<05:53,  1.17s/it]"
     ]
    },
    {
     "name": "stdout",
     "output_type": "stream",
     "text": [
      "Canadian River is Geography\n"
     ]
    },
    {
     "name": "stderr",
     "output_type": "stream",
     "text": [
      " 35%|█████████████████████████████████████████▎                                                                           | 163/461 [03:23<04:23,  1.13it/s]"
     ]
    },
    {
     "name": "stdout",
     "output_type": "stream",
     "text": [
      "John Wilkes Booth is Geography\n"
     ]
    },
    {
     "name": "stderr",
     "output_type": "stream",
     "text": [
      " 39%|█████████████████████████████████████████████▏                                                                       | 178/461 [03:33<02:54,  1.62it/s]"
     ]
    },
    {
     "name": "stdout",
     "output_type": "stream",
     "text": [
      "Lafayette and Lake Charles is Geography\n"
     ]
    },
    {
     "name": "stderr",
     "output_type": "stream",
     "text": [
      " 41%|███████████████████████████████████████████████▍                                                                     | 187/461 [03:35<01:50,  2.47it/s]"
     ]
    },
    {
     "name": "stdout",
     "output_type": "stream",
     "text": [
      "Lake Michigan is Geography\n"
     ]
    },
    {
     "name": "stderr",
     "output_type": "stream",
     "text": [
      " 41%|███████████████████████████████████████████████▉                                                                     | 189/461 [03:37<02:21,  1.93it/s]"
     ]
    },
    {
     "name": "stdout",
     "output_type": "stream",
     "text": [
      "Brigham Young is Geography\n"
     ]
    },
    {
     "name": "stderr",
     "output_type": "stream",
     "text": [
      " 43%|█████████████████████████████████████████████████▋                                                                   | 196/461 [03:42<02:45,  1.60it/s]"
     ]
    },
    {
     "name": "stdout",
     "output_type": "stream",
     "text": [
      "Philadelphia is Geography\n"
     ]
    },
    {
     "name": "stderr",
     "output_type": "stream",
     "text": [
      " 44%|███████████████████████████████████████████████████▎                                                                 | 202/461 [03:50<04:11,  1.03it/s]"
     ]
    },
    {
     "name": "stdout",
     "output_type": "stream",
     "text": [
      "Salt Lake City is Geography\n"
     ]
    },
    {
     "name": "stderr",
     "output_type": "stream",
     "text": [
      " 45%|████████████████████████████████████████████████████▎                                                                | 206/461 [03:53<03:41,  1.15it/s]"
     ]
    },
    {
     "name": "stdout",
     "output_type": "stream",
     "text": [
      "Indianapolis is Geography\n"
     ]
    },
    {
     "name": "stderr",
     "output_type": "stream",
     "text": [
      " 48%|███████████████████████████████████████████████████████▊                                                             | 220/461 [03:57<01:56,  2.07it/s]"
     ]
    },
    {
     "name": "stdout",
     "output_type": "stream",
     "text": [
      "Carolinas is Geography\n"
     ]
    },
    {
     "name": "stderr",
     "output_type": "stream",
     "text": [
      " 49%|█████████████████████████████████████████████████████████▊                                                           | 228/461 [04:00<01:45,  2.21it/s]"
     ]
    },
    {
     "name": "stdout",
     "output_type": "stream",
     "text": [
      "America is Geography\n"
     ]
    },
    {
     "name": "stderr",
     "output_type": "stream",
     "text": [
      " 51%|███████████████████████████████████████████████████████████▏                                                         | 233/461 [04:11<04:08,  1.09s/it]"
     ]
    },
    {
     "name": "stdout",
     "output_type": "stream",
     "text": [
      "Federal Aviation Administration is Geography\n"
     ]
    },
    {
     "name": "stderr",
     "output_type": "stream",
     "text": [
      " 51%|███████████████████████████████████████████████████████████▍                                                         | 234/461 [04:14<04:57,  1.31s/it]"
     ]
    },
    {
     "name": "stdout",
     "output_type": "stream",
     "text": [
      "Puerto Rico is Geography\n"
     ]
    },
    {
     "name": "stderr",
     "output_type": "stream",
     "text": [
      " 51%|███████████████████████████████████████████████████████████▋                                                         | 235/461 [04:17<05:41,  1.51s/it]"
     ]
    },
    {
     "name": "stdout",
     "output_type": "stream",
     "text": [
      "the U.S. Virgin Islands is Geography\n"
     ]
    },
    {
     "name": "stderr",
     "output_type": "stream",
     "text": [
      " 53%|█████████████████████████████████████████████████████████████▉                                                       | 244/461 [04:21<03:04,  1.18it/s]"
     ]
    },
    {
     "name": "stdout",
     "output_type": "stream",
     "text": [
      "U.S. is Geography\n"
     ]
    },
    {
     "name": "stderr",
     "output_type": "stream",
     "text": [
      " 54%|██████████████████████████████████████████████████████████████▉                                                      | 248/461 [04:26<03:14,  1.09it/s]"
     ]
    },
    {
     "name": "stdout",
     "output_type": "stream",
     "text": [
      "Mississippi River is Geography\n"
     ]
    },
    {
     "name": "stderr",
     "output_type": "stream",
     "text": [
      " 54%|███████████████████████████████████████████████████████████████▋                                                     | 251/461 [04:28<03:09,  1.11it/s]"
     ]
    },
    {
     "name": "stdout",
     "output_type": "stream",
     "text": [
      "New England is Geography\n"
     ]
    },
    {
     "name": "stderr",
     "output_type": "stream",
     "text": [
      " 57%|██████████████████████████████████████████████████████████████████▍                                                  | 262/461 [04:39<02:48,  1.18it/s]"
     ]
    },
    {
     "name": "stdout",
     "output_type": "stream",
     "text": [
      "Utah is Geography\n"
     ]
    },
    {
     "name": "stderr",
     "output_type": "stream",
     "text": [
      " 57%|██████████████████████████████████████████████████████████████████▋                                                  | 263/461 [04:41<03:25,  1.04s/it]"
     ]
    },
    {
     "name": "stdout",
     "output_type": "stream",
     "text": [
      "Rocky Mountains is Geography\n"
     ]
    },
    {
     "name": "stderr",
     "output_type": "stream",
     "text": [
      " 58%|███████████████████████████████████████████████████████████████████▊                                                 | 267/461 [04:44<02:51,  1.13it/s]"
     ]
    },
    {
     "name": "stdout",
     "output_type": "stream",
     "text": [
      "North America is Geography\n"
     ]
    },
    {
     "name": "stderr",
     "output_type": "stream",
     "text": [
      " 63%|█████████████████████████████████████████████████████████████████████████▎                                           | 289/461 [04:46<00:49,  3.48it/s]"
     ]
    },
    {
     "name": "stdout",
     "output_type": "stream",
     "text": [
      "the Ohio River is Geography\n"
     ]
    },
    {
     "name": "stderr",
     "output_type": "stream",
     "text": [
      " 64%|███████████████████████████████████████████████████████████████████████████▍                                         | 297/461 [04:49<00:50,  3.26it/s]"
     ]
    },
    {
     "name": "stdout",
     "output_type": "stream",
     "text": [
      "the U.S. House of Representatives is Geography\n"
     ]
    },
    {
     "name": "stderr",
     "output_type": "stream",
     "text": [
      " 68%|███████████████████████████████████████████████████████████████████████████████▍                                     | 313/461 [04:59<01:14,  1.99it/s]"
     ]
    },
    {
     "name": "stdout",
     "output_type": "stream",
     "text": [
      "New Mexico is Geography\n"
     ]
    },
    {
     "name": "stderr",
     "output_type": "stream",
     "text": [
      " 69%|████████████████████████████████████████████████████████████████████████████████▍                                    | 317/461 [05:03<01:26,  1.67it/s]"
     ]
    },
    {
     "name": "stdout",
     "output_type": "stream",
     "text": [
      "Guadalupe Mountains is Geography\n"
     ]
    },
    {
     "name": "stderr",
     "output_type": "stream",
     "text": [
      " 69%|█████████████████████████████████████████████████████████████████████████████████▏                                   | 320/461 [05:05<01:35,  1.47it/s]"
     ]
    },
    {
     "name": "stdout",
     "output_type": "stream",
     "text": [
      "Colorado is Geography\n"
     ]
    },
    {
     "name": "stderr",
     "output_type": "stream",
     "text": [
      " 70%|██████████████████████████████████████████████████████████████████████████████████▏                                  | 324/461 [05:09<01:42,  1.34it/s]"
     ]
    },
    {
     "name": "stdout",
     "output_type": "stream",
     "text": [
      "the United States is Geography\n"
     ]
    },
    {
     "name": "stderr",
     "output_type": "stream",
     "text": [
      " 74%|██████████████████████████████████████████████████████████████████████████████████████                               | 339/461 [05:19<01:29,  1.37it/s]"
     ]
    },
    {
     "name": "stdout",
     "output_type": "stream",
     "text": [
      "Arizona is Geography\n"
     ]
    },
    {
     "name": "stderr",
     "output_type": "stream",
     "text": [
      " 82%|███████████████████████████████████████████████████████████████████████████████████████████████▍                     | 376/461 [05:25<00:16,  5.01it/s]"
     ]
    },
    {
     "name": "stdout",
     "output_type": "stream",
     "text": [
      "Community of Cardston is Geography\n"
     ]
    },
    {
     "name": "stderr",
     "output_type": "stream",
     "text": [
      " 84%|██████████████████████████████████████████████████████████████████████████████████████████████████▋                  | 389/461 [05:43<01:05,  1.10it/s]"
     ]
    },
    {
     "name": "stdout",
     "output_type": "stream",
     "text": [
      "KLFY TV is Geography\n"
     ]
    },
    {
     "name": "stderr",
     "output_type": "stream",
     "text": [
      " 86%|█████████████████████████████████████████████████████████████████████████████████████████████████████                | 398/461 [05:46<00:37,  1.69it/s]"
     ]
    },
    {
     "name": "stdout",
     "output_type": "stream",
     "text": [
      "Abraham Lincoln's is People\n"
     ]
    },
    {
     "name": "stderr",
     "output_type": "stream",
     "text": [
      " 87%|█████████████████████████████████████████████████████████████████████████████████████████████████████▌               | 400/461 [05:51<00:57,  1.07it/s]"
     ]
    },
    {
     "name": "stdout",
     "output_type": "stream",
     "text": [
      "Department of Homeland Security is Geography\n"
     ]
    },
    {
     "name": "stderr",
     "output_type": "stream",
     "text": [
      " 90%|█████████████████████████████████████████████████████████████████████████████████████████████████████████▌           | 416/461 [05:59<00:21,  2.12it/s]"
     ]
    },
    {
     "name": "stdout",
     "output_type": "stream",
     "text": [
      "Ohio is Geography\n"
     ]
    },
    {
     "name": "stderr",
     "output_type": "stream",
     "text": [
      " 91%|██████████████████████████████████████████████████████████████████████████████████████████████████████████           | 418/461 [06:01<00:24,  1.75it/s]"
     ]
    },
    {
     "name": "stdout",
     "output_type": "stream",
     "text": [
      "Michigan is Geography\n"
     ]
    },
    {
     "name": "stderr",
     "output_type": "stream",
     "text": [
      " 94%|██████████████████████████████████████████████████████████████████████████████████████████████████████████████▍      | 435/461 [06:11<00:13,  1.88it/s]"
     ]
    },
    {
     "name": "stdout",
     "output_type": "stream",
     "text": [
      "Stephen A. Douglas is People\n"
     ]
    },
    {
     "name": "stderr",
     "output_type": "stream",
     "text": [
      "100%|█████████████████████████████████████████████████████████████████████████████████████████████████████████████████████| 461/461 [06:14<00:00,  1.23it/s]"
     ]
    },
    {
     "name": "stdout",
     "output_type": "stream",
     "text": [
      "Grand Canyon is Geography\n"
     ]
    },
    {
     "name": "stderr",
     "output_type": "stream",
     "text": [
      "\n"
     ]
    },
    {
     "name": "stdout",
     "output_type": "stream",
     "text": [
      "entities:  {'Puerto', 'Attakapa', 'Lincoln', 'Death', 'Bureau', 'Davis', 'Canadian', 'Western', 'Court', 'Mounds', 'Rocky', 'Las', 'Utah', 'Delaware', 'John', 'Arkansas', 'Homeland', 'NFL', 'Agriculture', 'Governments', 'Louisiana', 'Oklahoma', 'Acadiana', 'Colonia', 'Indiana', 'Jeff', 'Southwestern', 'Booth', 'Ohio', 'Congress', 'State', 'Vegas', 'The', 'California', 'Stephen', 'Washington', 'City', 'America', 'House', 'Islands', 'Chase', 'Ocean', 'England', 'Council', 'Abraham', 'Tennessee', 'corridor', 'Mid', 'Nevada', 'Philadelphia', 'Georgia', 'Administration', 'Carolina', 'Kentucky', 'TV', 'Atlantic', 'Security', 'Grande', 'Lafayette,', 'Texas', 'Douglas', 'South', 'Montana', 'Alabama', 'Missouri', 'Americans', 'Land', 'Bernardino', 'Company\"', 'Jim', 'New', 'Rico', 'Department', 'States', 'U.S.', 'Salmon', 'Nephi', 'KLFY', 'United', 'San', 'Rio', 'Mississippi', 'Calcasieu', 'Federal', 'Arizona', 'Aviation', 'Thomas', 'Lafayette', 'Wilkes', 'West', 'Colorado', 'Indianapolis', 'Florida', 'Illinois', 'Angel', 'Charles', 'Salt', 'Cardston', 'Virgin', 'Grand', 'Carolinas', 'Southern', 'Cameron', 'Canyon', 'Community', 'Lake', \"Lincoln's\", 'Maryland', 'Representatives', 'Houma', 'George', 'Supreme', 'P.', 'River', 'Brigham', 'Virginia', 'Houston', 'A.', 'Valley', 'D.C.', 'Díaz', 'Guadalupe', 'North', 'Native', 'FEMA', 'Michigan', 'Thibodaux', 'Acadia', 'Mountains', 'Mexico', 'Young', 'Mormon'}\n"
     ]
    },
    {
     "ename": "NameError",
     "evalue": "name 'related_entities' is not defined",
     "output_type": "error",
     "traceback": [
      "\u001b[0;31m---------------------------------------------------------------------------\u001b[0m",
      "\u001b[0;31mNameError\u001b[0m                                 Traceback (most recent call last)",
      "Cell \u001b[0;32mIn[2], line 1\u001b[0m\n\u001b[0;32m----> 1\u001b[0m entity\u001b[38;5;241m.\u001b[39mextractNconvert_entity(\u001b[38;5;124m\"\u001b[39m\u001b[38;5;124m1_1\u001b[39m\u001b[38;5;124m\"\u001b[39m)\n",
      "File \u001b[0;32m/home/evelyn/kfc/question_generation/entity.py:483\u001b[0m, in \u001b[0;36mextractNconvert_entity\u001b[0;34m(id_)\u001b[0m\n\u001b[1;32m    481\u001b[0m \u001b[38;5;66;03m# Related entities considered\u001b[39;00m\n\u001b[1;32m    482\u001b[0m \u001b[38;5;28mprint\u001b[39m(\u001b[38;5;124m\"\u001b[39m\u001b[38;5;124mentities: \u001b[39m\u001b[38;5;124m\"\u001b[39m, entities)\n\u001b[0;32m--> 483\u001b[0m \u001b[38;5;28mprint\u001b[39m(\u001b[38;5;124m\"\u001b[39m\u001b[38;5;124mrelated_entities: \u001b[39m\u001b[38;5;124m\"\u001b[39m, related_entities)\n\u001b[1;32m    484\u001b[0m \u001b[38;5;28;01mfor\u001b[39;00m word \u001b[38;5;129;01min\u001b[39;00m related_entities:\n\u001b[1;32m    485\u001b[0m     \u001b[38;5;28;01mif\u001b[39;00m word \u001b[38;5;129;01min\u001b[39;00m entities:\n",
      "\u001b[0;31mNameError\u001b[0m: name 'related_entities' is not defined"
     ]
    }
   ],
   "source": [
    "entity.extractNconvert_entity(\"1_1\")"
   ]
  },
  {
   "cell_type": "code",
   "execution_count": 25,
   "id": "4c32de98-98fb-4efa-9ba7-6e2042b6aaf7",
   "metadata": {},
   "outputs": [
    {
     "name": "stdout",
     "output_type": "stream",
     "text": [
      "Requirement already satisfied: word2number in /root/anaconda3/lib/python3.11/site-packages (1.1)\n",
      "\u001b[33mWARNING: Running pip as the 'root' user can result in broken permissions and conflicting behaviour with the system package manager. It is recommended to use a virtual environment instead: https://pip.pypa.io/warnings/venv\u001b[0m\u001b[33m\n",
      "\u001b[0m"
     ]
    }
   ],
   "source": [
    "!pip install word2number"
   ]
  },
  {
   "cell_type": "code",
   "execution_count": 34,
   "id": "20257957-20f7-4d7e-b348-4041983cc05c",
   "metadata": {},
   "outputs": [],
   "source": [
    "\n",
    "ordinals = [\"first\", \"second\", \"third\", \"fourth\", \"fifth\", \"sixth\", \"seventh\", \"eighth\", \"ninth\", \"tenth\", \"eleventh\", \"twelfth\", \"thirteenth\", \"fourteenth\", \"fifteenth\", \"sixteenth\", \"seventeenth\", \"eighteenth\", \"nineteenth\", \"twentieth\", \"thirtieth\", \"fortieth\", \"fiftieth\", \"sixtieth\", \"seventieth\", \"eightieth\", \"ninetieth\", \"hundredth\", \"thousandth\", \"millionth\", \"billionth\", \"trillionth\", \"quadrillionth\", \"quintillionth\", \"sextillionth\", \"septillionth\", \"octillionth\", \"nonillionth\", \"decillionth\"]"
   ]
  },
  {
   "cell_type": "code",
   "execution_count": 35,
   "id": "727cf630-438c-4192-be75-7d10e73326bb",
   "metadata": {},
   "outputs": [
    {
     "name": "stdout",
     "output_type": "stream",
     "text": [
      "{'30': True, '300': True, '2049': True, 'two': True, 'eighth': True, 'tenth': True, 'hundred and twenty two': True}\n"
     ]
    }
   ],
   "source": [
    "from word2number import w2n\n",
    "import re\n",
    "\n",
    "\n",
    "def is_numeral(s):\n",
    "    try:\n",
    "        # Attempt to convert directly to an integer\n",
    "        int(s)\n",
    "        return True\n",
    "    except ValueError:\n",
    "        pass\n",
    "    \n",
    "    try:\n",
    "        # Try to convert using word2number\n",
    "        w2n.word_to_num(s)\n",
    "        return True\n",
    "    except ValueError:\n",
    "        pass\n",
    "    \n",
    "    # Additional handling for complex numerals like 'hundred and twenty-two'\n",
    "    try:\n",
    "        # Remove 'and', which word2number can sometimes struggle with\n",
    "        cleaned = re.sub(r'\\band\\b', '', s)\n",
    "        w2n.word_to_num(cleaned)\n",
    "        return True\n",
    "    except ValueError:\n",
    "        \n",
    "        for ordin in ordinals:\n",
    "            if ordin.lower() in s.lower():\n",
    "                return True\n",
    "        return False\n",
    "\n",
    "# Test cases\n",
    "test_cases = [\"30\", \"300\", \"2049\", \"two\", \"eighth\", \"tenth\", \"hundred and twenty two\"]\n",
    "results = {case: is_numeral(case) for case in test_cases}\n",
    "\n",
    "print(results)\n"
   ]
  },
  {
   "cell_type": "code",
   "execution_count": 13,
   "id": "9c44ec1e-09e4-48fa-9bae-3c4bece655c3",
   "metadata": {},
   "outputs": [
    {
     "name": "stdout",
     "output_type": "stream",
     "text": [
      "https://en.wikipedia.org/wiki/Lalalalaaaalla\n"
     ]
    },
    {
     "data": {
      "text/plain": [
       "<Response [404]>"
      ]
     },
     "execution_count": 13,
     "metadata": {},
     "output_type": "execute_result"
    }
   ],
   "source": [
    "import cpnet_wiki\n",
    "import requests\n",
    "print(cpnet_wiki.get_redirect_url(\"lalalalaaaalla\"))\n",
    "requests.get(\"https://en.wikipedia.org/wiki/Lalalalaaaalla\")"
   ]
  },
  {
   "cell_type": "code",
   "execution_count": 23,
   "id": "aa444910-69ad-47a0-92df-4ae550df291c",
   "metadata": {},
   "outputs": [],
   "source": [
    "import math\n",
    "\n",
    "def hash_list(num):\n",
    "    numbers = list(range(0, 10))\n",
    "    letters = ['A', 'B', 'C', 'D', 'E', 'F']\n",
    "    num_element = numbers + letters\n",
    "    max_amount = max(int(math.log2(num) / 4) + 1, 3)\n",
    "    ans_list = list()\n",
    "    def update_hash(middle_hash):\n",
    "        if len(middle_hash) == max_amount:\n",
    "            ans_list.append(middle_hash)\n",
    "        else:\n",
    "            for numeral in num_element:\n",
    "                if len(ans_list) == num:\n",
    "                    return\n",
    "                update_hash(middle_hash + str(numeral))\n",
    "    update_hash(\"\")\n",
    "    return ans_list"
   ]
  },
  {
   "cell_type": "code",
   "execution_count": 24,
   "id": "3ce5b528-a7b6-4c19-b2e3-4406045b3c8f",
   "metadata": {},
   "outputs": [
    {
     "data": {
      "text/plain": [
       "['000',\n",
       " '001',\n",
       " '002',\n",
       " '003',\n",
       " '004',\n",
       " '005',\n",
       " '006',\n",
       " '007',\n",
       " '008',\n",
       " '009',\n",
       " '00A',\n",
       " '00B',\n",
       " '00C']"
      ]
     },
     "execution_count": 24,
     "metadata": {},
     "output_type": "execute_result"
    }
   ],
   "source": [
    "hash_list(13)"
   ]
  },
  {
   "cell_type": "code",
   "execution_count": 21,
   "id": "0f63e94b-b5d3-450d-8180-70c490909f33",
   "metadata": {},
   "outputs": [
    {
     "name": "stdout",
     "output_type": "stream",
     "text": [
      "Governorate\n"
     ]
    }
   ],
   "source": [
    "from urllib.parse import unquote\n",
    "\n",
    "# URL-decode the string\n",
    "decoded_str = unquote('governorate')\n",
    "\n",
    "# Capitalize each word to match the desired format\n",
    "proper_str = decoded_str.title()\n",
    "\n",
    "print(proper_str)  # Output will be 'Augustów Governorate'"
   ]
  },
  {
   "cell_type": "code",
   "execution_count": 1,
   "id": "4e753167-e484-4590-8cb0-78f775a96d8a",
   "metadata": {},
   "outputs": [
    {
     "name": "stdout",
     "output_type": "stream",
     "text": [
      "None\n"
     ]
    }
   ],
   "source": [
    "from cpnet_wiki import wiki_word_in_cpnet\n",
    "print(wiki_word_in_cpnet('Lincoln County feud'))"
   ]
  },
  {
   "cell_type": "code",
   "execution_count": 2,
   "id": "4060b21e-54cd-47b4-bc17-8e6fb34e61c5",
   "metadata": {},
   "outputs": [
    {
     "name": "stdout",
     "output_type": "stream",
     "text": [
      "True\n"
     ]
    }
   ],
   "source": [
    "print(not None)"
   ]
  },
  {
   "cell_type": "code",
   "execution_count": 36,
   "id": "dbec50d7-5433-421d-baa9-d77c8481eb27",
   "metadata": {},
   "outputs": [
    {
     "name": "stdout",
     "output_type": "stream",
     "text": [
      "Found title: Lincoln County feud\n",
      "{'batchcomplete': '', 'query': {'pages': {'44846129': {'pageid': 44846129, 'ns': 0, 'title': 'Lincoln County feud', 'contentmodel': 'wikitext', 'pagelanguage': 'en', 'pagelanguagehtmlcode': 'en', 'pagelanguagedir': 'ltr', 'touched': '2024-04-29T05:06:14Z', 'lastrevid': 1148828914, 'length': 9208, 'fullurl': 'https://en.wikipedia.org/wiki/Lincoln_County_feud', 'editurl': 'https://en.wikipedia.org/w/index.php?title=Lincoln_County_feud&action=edit', 'canonicalurl': 'https://en.wikipedia.org/wiki/Lincoln_County_feud'}}}}\n",
      "{'batchcomplete': '', 'continue': {'sroffset': 10, 'continue': '-||'}, 'query': {'searchinfo': {'totalhits': 1060}, 'search': [{'ns': 0, 'title': 'Lincoln County feud', 'pageid': 44846129, 'size': 9208, 'wordcount': 885, 'snippet': 'The <span class=\"searchmatch\">Lincoln</span> <span class=\"searchmatch\">County</span> <span class=\"searchmatch\">feud</span> occurred in the Harts Creek community of <span class=\"searchmatch\">Lincoln</span> and Logan <span class=\"searchmatch\">counties</span>, West Virginia, between 1878 and 1890. The <span class=\"searchmatch\">feud</span> arose out', 'timestamp': '2023-04-08T15:38:59Z'}, {'ns': 0, 'title': 'Lincoln County War', 'pageid': 152287, 'size': 24880, 'wordcount': 3017, 'snippet': 'The <span class=\"searchmatch\">Lincoln</span> <span class=\"searchmatch\">County</span> War was an Old West conflict between rival factions which began in 1878 in <span class=\"searchmatch\">Lincoln</span> <span class=\"searchmatch\">County</span>, New Mexico Territory, the predecessor of', 'timestamp': '2024-04-02T17:23:27Z'}, {'ns': 0, 'title': 'Inez, Kentucky', 'pageid': 115338, 'size': 12157, 'wordcount': 1082, 'snippet': ' Kentucky postmaster in neighboring Lawrence <span class=\"searchmatch\">County</span>. The <span class=\"searchmatch\">Lincoln</span> <span class=\"searchmatch\">County</span> <span class=\"searchmatch\">Feud</span> occurred in <span class=\"searchmatch\">Lincoln</span> <span class=\"searchmatch\">County</span>, West Virginia, during the 1880s. In October 1889', 'timestamp': '2023-07-29T14:37:36Z'}, {'ns': 0, 'title': 'Family feuds in the United States', 'pageid': 33687930, 'size': 35338, 'wordcount': 4519, 'snippet': 'thus marking an end to the <span class=\"searchmatch\">feud</span>. The <span class=\"searchmatch\">Lincoln</span> <span class=\"searchmatch\">County</span> <span class=\"searchmatch\">Feud</span> occurred in the Harts Creek community of <span class=\"searchmatch\">Lincoln</span> and Logan <span class=\"searchmatch\">counties</span>, West Virginia, between 1878', 'timestamp': '2024-04-01T23:40:13Z'}, {'ns': 0, 'title': 'Feud', 'pageid': 292136, 'size': 57408, 'wordcount': 5892, 'snippet': 'Donnelly–Biddulph community <span class=\"searchmatch\">feud</span> (1857–1880; Ontario, Canada) The <span class=\"searchmatch\">Lincoln</span> <span class=\"searchmatch\">County</span> War (1878–1881; New Mexico, United States) The <span class=\"searchmatch\">Lincoln</span> <span class=\"searchmatch\">County</span> <span class=\"searchmatch\">Feud</span> (1878–1890; West', 'timestamp': '2024-04-12T15:14:17Z'}, {'ns': 0, 'title': 'Sean Brock', 'pageid': 43773332, 'size': 11370, 'wordcount': 934, 'snippet': 'French–Eversole <span class=\"searchmatch\">feud</span> Hatfield–McCoy <span class=\"searchmatch\">feud</span> (Battle of the Grapevine Creek) <span class=\"searchmatch\">Lincoln</span> <span class=\"searchmatch\">County</span> <span class=\"searchmatch\">feud</span> Hillbilly Highway (Baltimore, Chicago, Detroit) Kentucky <span class=\"searchmatch\">County</span>, Virginia', 'timestamp': '2024-03-19T01:48:37Z'}, {'ns': 0, 'title': 'Appalachian cuisine', 'pageid': 73125671, 'size': 22243, 'wordcount': 1699, 'snippet': 'French–Eversole <span class=\"searchmatch\">feud</span> Hatfield–McCoy <span class=\"searchmatch\">feud</span> (Battle of the Grapevine Creek) <span class=\"searchmatch\">Lincoln</span> <span class=\"searchmatch\">County</span> <span class=\"searchmatch\">feud</span> Hillbilly Highway (Baltimore, Chicago, Detroit) Kentucky <span class=\"searchmatch\">County</span>, Virginia', 'timestamp': '2024-03-09T00:48:22Z'}, {'ns': 0, 'title': 'Homestead strike', 'pageid': 246242, 'size': 59422, 'wordcount': 7207, 'snippet': 'the strikers would attack the Pinkertons, and attacking duly deputized <span class=\"searchmatch\">county</span> law enforcement officers would provide grounds for claiming insurrection', 'timestamp': '2024-02-05T18:44:15Z'}, {'ns': 0, 'title': 'Haymarket affair', 'pageid': 23466744, 'size': 87406, 'wordcount': 10095, 'snippet': '(1999). Graveyards of Chicago: The People, History, Art, and Lore of Cook <span class=\"searchmatch\">County</span> Cemeteries. Chicago: Lake Claremont Press. ISBN\\xa00-9642426-4-8. Kvaran, Einar', 'timestamp': '2024-03-29T16:10:35Z'}, {'ns': 0, 'title': 'Pullman Strike', 'pageid': 226206, 'size': 36843, 'wordcount': 4108, 'snippet': '(2011). The Rise of the Federal Colossus: The Growth of Federal Power from <span class=\"searchmatch\">Lincoln</span> to F.D.R. ABC-CLIO. pp.\\xa0233–34. ISBN\\xa09780313392948. Archived from the original', 'timestamp': '2024-03-12T22:58:28Z'}]}}\n"
     ]
    }
   ],
   "source": [
    "import requests\n",
    "\n",
    "# Start a session\n",
    "S = requests.Session()\n",
    "\n",
    "# Specify the API endpoint\n",
    "URL = \"https://en.wikipedia.org/w/api.php\"\n",
    "\n",
    "# Set the parameters for the initial search\n",
    "SEARCH_PARAMS = {\n",
    "    'action': 'query',\n",
    "    'format': 'json',\n",
    "    'list': 'search',\n",
    "    'srsearch': 'Lincoln County feud'  # The search term\n",
    "}\n",
    "\n",
    "# Make the GET request for the search\n",
    "search_data = S.get(url=URL, params=SEARCH_PARAMS).json()\n",
    "\n",
    "# Checking if there are search results\n",
    "if search_data['query']['search']:\n",
    "    title = search_data['query']['search'][0]['title']\n",
    "    print(\"Found title:\", title)\n",
    "\n",
    "    # Using the title found in search to query for page content\n",
    "    PAGE_PARAMS = {\n",
    "        'action': 'query',\n",
    "        'format': 'json',\n",
    "        'titles': title,  # Using the found title\n",
    "        'prop': 'info',\n",
    "        'inprop': 'url',  # Getting additional properties like the URL\n",
    "        'redirects': 1\n",
    "    }\n",
    "\n",
    "    page_data = S.get(url=URL, params=PAGE_PARAMS).json()\n",
    "    print(page_data)\n",
    "else:\n",
    "    print(\"No results found for the search term.\")\n",
    "\n",
    "# Optionally print search results data for additional debugging\n",
    "print(search_data)\n"
   ]
  },
  {
   "cell_type": "code",
   "execution_count": 1,
   "id": "bb16be76-744d-487c-a673-621dacc2b50f",
   "metadata": {},
   "outputs": [],
   "source": [
    "from cpnet_wiki import get_redirect_keyword"
   ]
  },
  {
   "cell_type": "code",
   "execution_count": 2,
   "id": "a1c4e8be-038c-447b-ae2c-c3507e136bee",
   "metadata": {},
   "outputs": [
    {
     "name": "stdout",
     "output_type": "stream",
     "text": [
      "Found title: Wilkes-Barre, Pennsylvania\n",
      "Wilkes-Barre, Pennsylvania\n"
     ]
    }
   ],
   "source": [
    "print(get_redirect_keyword('Wilkes-barre, pennsylvania'))"
   ]
  },
  {
   "cell_type": "code",
   "execution_count": 23,
   "id": "8d44f00d-c5d9-435d-83e1-d4ca500d9116",
   "metadata": {},
   "outputs": [
    {
     "name": "stdout",
     "output_type": "stream",
     "text": [
      "{'batchcomplete': '', 'query': {'pages': {'-1': {'ns': 0, 'title': 'Wilkes-barre, pennsylvania', 'missing': ''}}}}\n",
      "{'ns': 0, 'title': 'Wilkes-barre, pennsylvania', 'missing': ''}\n"
     ]
    }
   ],
   "source": [
    "S = requests.Session()\n",
    "URL = \"https://en.wikipedia.org/w/api.php\"\n",
    "PARAMS = {'action': 'query','format': 'json','titles': 'Wilkes-barre, pennsylvania','prop': 'extracts', \"explaintext\": True}\n",
    "DATA = S.get(url = URL, params = PARAMS).json()\n",
    "print(DATA)\n",
    "assert(len(DATA[\"query\"][\"pages\"].values()))\n",
    "plaintext = list(DATA[\"query\"][\"pages\"].values())[0]\n",
    "print(plaintext)"
   ]
  },
  {
   "cell_type": "code",
   "execution_count": 17,
   "id": "dffd9180-064e-4646-a1cb-096702b4dbb5",
   "metadata": {},
   "outputs": [
    {
     "name": "stdout",
     "output_type": "stream",
     "text": [
      "None\n"
     ]
    }
   ],
   "source": [
    "print(cpnet_wiki.wiki_word_in_cpnet('1816 in the United Kingdom'))"
   ]
  },
  {
   "cell_type": "code",
   "execution_count": 16,
   "id": "5a0945f6-b5ef-4d06-a46e-384c4daa872e",
   "metadata": {},
   "outputs": [
    {
     "name": "stdout",
     "output_type": "stream",
     "text": [
      "C1\n"
     ]
    }
   ],
   "source": [
    "url = \"https://en.wikipedia.org/wiki/Lalalalaaaalla\"\n",
    "response = requests.get(url)\n",
    "if response.status_code == 404:\n",
    "    print(\"C1\")"
   ]
  },
  {
   "cell_type": "code",
   "execution_count": 6,
   "id": "f50b3500-7d4e-4c8d-b6b4-8509826cf0dd",
   "metadata": {},
   "outputs": [],
   "source": [
    "# import os\n",
    "# import json\n",
    "# from dir_path import *\n",
    "# root_path = os.path.abspath(os.sep)\n",
    "# newdict = dict()\n",
    "\n",
    "# datafilepath = root_path + qa_rootpath + \"organized_data.json\"\n",
    "# with open(datafilepath, 'r') as fp:\n",
    "#     dictObj = json.load(fp)\n",
    "# for key in dictObj.keys():\n",
    "#     newdict[key] = list()\n",
    "#     dupcheck = list()\n",
    "#     for i in range(len(dictObj[key])):\n",
    "#         if (dictObj[key][i][\"end word\"],dictObj[key][i][\"source\"][\"name\"],dictObj[key][i][\"source\"][\"line\"]) in dupcheck:\n",
    "#             continue\n",
    "#         dupcheck.append((dictObj[key][i][\"end word\"],dictObj[key][i][\"source\"][\"name\"],dictObj[key][i][\"source\"][\"line\"]))\n",
    "#         newdict[key].append(dictObj[key][i])\n",
    "    \n",
    "# with open(datafilepath, \"w\", encoding=\"utf-8\") as f:\n",
    "#     json.dump(newdict, f, ensure_ascii=False) \n"
   ]
  },
  {
   "cell_type": "code",
   "execution_count": 8,
   "id": "dd2f3fda-ea3a-4631-9d0e-799bf6556399",
   "metadata": {},
   "outputs": [],
   "source": [
    "import os\n",
    "import json\n",
    "from dir_path import *\n",
    "root_path = os.path.abspath(os.sep)\n",
    "newdict = dict()\n",
    "\n",
    "datafilepath = root_path + qa_rootpath + \"organized_data.json\"\n",
    "with open(datafilepath, 'r') as fp:\n",
    "    dictObj = json.load(fp)\n",
    "for key in dictObj.keys():\n",
    "    newdict[key] = list()\n",
    "    \n",
    "    for i in range(len(dictObj[key])):\n",
    "        splitted_triplet = dictObj[key][i][\"triplet\"].lower().replace('(\"', '\", \"').replace('\")', '\", \"').split('\", \"')\n",
    "        check_words = list()\n",
    "        check_words += splitted_triplet[1].split(\" \")\n",
    "        check_words += splitted_triplet[3].split(\" \")\n",
    "        fail = False\n",
    "        for word1 in dictObj[key][i][\"end word\"].split(\" \"):\n",
    "            if word1.lower() not in check_words:\n",
    "                fail = True\n",
    "                break\n",
    "        if fail:\n",
    "            continue\n",
    "        newdict[key].append(dictObj[key][i])\n",
    "    \n",
    "with open(datafilepath, \"w\", encoding=\"utf-8\") as f:\n",
    "    json.dump(newdict, f, ensure_ascii=False) \n"
   ]
  },
  {
   "cell_type": "code",
   "execution_count": null,
   "id": "736ef8e9-e3c0-4898-bbd6-86af5b114b49",
   "metadata": {},
   "outputs": [],
   "source": []
  },
  {
   "cell_type": "code",
   "execution_count": 1,
   "id": "fb08dc6b-9a81-4acd-b498-73010aac2bba",
   "metadata": {},
   "outputs": [],
   "source": [
    "import preprocess"
   ]
  },
  {
   "cell_type": "code",
   "execution_count": 2,
   "id": "7bc5a875-0980-4b6e-b849-58a3668ea74c",
   "metadata": {},
   "outputs": [
    {
     "name": "stdout",
     "output_type": "stream",
     "text": [
      "extract_info(turtle) Start.\n"
     ]
    }
   ],
   "source": [
    "# preprocess.extract_info(\"turtle\")"
   ]
  },
  {
   "cell_type": "code",
   "execution_count": 3,
   "id": "183a1990-93fd-4957-bdc6-6f2ff9d9a19b",
   "metadata": {
    "scrolled": true
   },
   "outputs": [
    {
     "name": "stdout",
     "output_type": "stream",
     "text": [
      "prompt is:  1. Task Description\n",
      "    1 - a. Task Description\n",
      "        I will give you a paragraph of texts in '6. Text'. For the paragraphs I give you, do the following task.\n",
      "        I will give you main keyword in '4. Main Keyword' and important keywords in 5. Important Keyword. There is only one word in '4. Main Keyword' and several keywords in '5. Important Keywords'.\n",
      "        You should extract essential information from '6. Text', and make triplets. Your triplet should be made in the following format: (\"<Subject>\", \"<Predicate>\", \"<Object>\"). Every triplet must be one of two types in 1 - b. This is very important: All the words in '5. Important Keywords' must be part of at least triplet. Therefore, the number your triplets should be same or more than the number of words in '5. Important Keywords'\n",
      "        If there are several informations in '6. Text' about the relation between word in '4. Main Keyword' and word in '5. Important Keywords', write several triplets. There will be example of this task in '2. Example'. Your output should strictly follow the format in '3. Format'.\n",
      "\n",
      "    1 - b. Type of Triplets\n",
      "        Type 1\n",
      "            The <Subject> must be a word or phrase same with or contains word in '4. Main Keyword'. <Object> must be a word or phrase that contains word in '5. Important Keyword'. \n",
      "        Type 2\n",
      "            The <Subject> must be a word or phrase same with or contains word in '4. Main Keyword'. <Object> must be a word or phrase that contains word in '5. Important Keyword'. \n",
      "\n",
      "   \n",
      "\n",
      "2. Example\n",
      "    2 - a. Main Keyword\n",
      "        Jason\n",
      "\n",
      "    2 - b. Important Keywords\n",
      "        Amy\n",
      "        Kevin\n",
      "        Seoul\n",
      "\n",
      "    2 - c. Text\n",
      "        Title: Topic\n",
      "        Content: Jason has a fever. He went to his sister's room. His sister's name is Amy. Amy had a fever last week, so she gave Jason some medical pills. After that, Jason called Doctor Kevin, who was his family physician when he was sick last year. Doctor Kevin said he is now in Seoul, so if Jason comes to Seoul, Kevin take care of Jason.\n",
      "\n",
      "    2 - d. Your Answer should be:\n",
      "        (\"Jason's\", \"sister is\", \"Amy\")\n",
      "        (\"Jason\", \"got some medical pills from\", \"Amy\")\n",
      "        (\"Jason\", \"called\", \"Doctor Kevin\")\n",
      "        (\"Kevin\", \"was family physician of\", \"Jason\")\n",
      "        (\"Kevin\", \"will take care of\", \"Jason if he comes to Seoul\")\n",
      "\n",
      "\n",
      "\n",
      "3. Format\n",
      "    Your output should strictly follow the format below. In particular, write \"ONLY\" triplets, and split each triplets by newline('\\n'). Like: \n",
      "Triplet 1\n",
      "Triplet 2\n",
      "Triplet 3\n",
      "Triplet 4\n",
      "...\n",
      "\n",
      "\n",
      "\n",
      "    4. Main Keyword\n",
      "    Turtle\n",
      "\n",
      "    \n",
      "    \n",
      "    5. Important Keywords\n",
      "    reptiles\n",
      "    Pleurodira\n",
      "    Cryptodira\n",
      "    species\n",
      "    tortoises\n",
      "    sea turtles\n",
      "    amniotes\n",
      "    tortoise\n",
      "    common name\n",
      "    sea turtles\n",
      "    Latin\n",
      "    leatherback turtle\n",
      "    Archelon ischyros\n",
      "    Late Cretaceous\n",
      "    Chersobius signatus\n",
      "    vertebrates\n",
      "    Side-necked turtles\n",
      "    hawksbill sea turtle\n",
      "    Softshell turtles\n",
      "    amniotes\n",
      "    mata mata\n",
      "    mollusks\n",
      "    mammals\n",
      "    desert tortoise\n",
      "    gopher tortoise\n",
      "    snapping turtles\n",
      "    mud turtles\n",
      "    pig-nosed turtle\n",
      "    green sea turtle\n",
      "    Snapping turtles\n",
      "    big-headed turtle\n",
      "    red-eared slider\n",
      "    loggerhead sea turtle\n",
      "    diamondback terrapin\n",
      "    Aldabra giant tortoise\n",
      "    Nova Scotia\n",
      "    African helmeted turtle\n",
      "    alligator snapping turtle\n",
      "    painted turtle\n",
      "    arthropods\n",
      "    Blanding's turtle\n",
      "    European pond turtle\n",
      "    water lilies\n",
      "    sponges\n",
      "    jellyfish\n",
      "    Florida red-bellied cooters\n",
      "    Geochelone\n",
      "    Chelydra\n",
      "    Malaclemys\n",
      "    salmon\n",
      "    olive ridleys\n",
      "    scorpion mud turtle\n",
      "    Russian tortoise\n",
      "    eastern box turtle\n",
      "    common snapping turtle\n",
      "    Seychelles giant tortoise\n",
      "    Galápagos tortoise\n",
      "    pareiasaurs\n",
      "    stem\n",
      "    Permian\n",
      "    Late Triassic\n",
      "    Proganochelys\n",
      "    Sinaspideretes\n",
      "    Late Cretaceous\n",
      "    Cenozoic\n",
      "    Bothremydidae\n",
      "    Podocnemididae\n",
      "    Eocene\n",
      "    Meiolaniidae\n",
      "    Pleistocene\n",
      "    Holocene\n",
      "    Anapsida\n",
      "    procolophonids\n",
      "    phylogenetic\n",
      "    Lepidosauria\n",
      "    Archosauria\n",
      "    molecular\n",
      "    genomic\n",
      "    Chinese softshell turtle\n",
      "    cladogram\n",
      "    Squamata\n",
      "    Crocodilia\n",
      "    Aves\n",
      "    Testudinata\n",
      "    Cryptodira\n",
      "    Gulf of Mexico\n",
      "    Terrapene ornata\n",
      "    Gopherus\n",
      "    primates\n",
      "    Asian box turtles\n",
      "    Queensland\n",
      "    Chinese\n",
      "    Lewis Carroll\n",
      "    Terry Pratchett\n",
      "    Taiwan\n",
      "\n",
      "    \n",
      "    \n",
      "    6. Text\n",
      "    Topic: Turtle\n",
      "    Content: \n",
      "    Turtles, or testudines, are reptiles of the order Testudines, characterized by a special shell developed mainly from their ribs. Modern turtles are divided into two major groups, the Pleurodira (side necked turtles) and Cryptodira (hidden necked turtles), which differ in the way the head retracts. There are 360 living and recently extinct species of turtles, including land-dwelling tortoises and freshwater terrapins. They are found on most continents, some islands and, in the case of sea turtles, much of the ocean. Like other amniotes (reptiles, birds, and mammals) they breathe air and do not lay eggs underwater, although many species live in or around water.  Turtle shells are made mostly of bone; the upper part is the domed carapace, while the underside is the flatter plastron or belly-plate. Its outer surface is covered in scales made of keratin, the material of hair, horns, and claws. The carapace bones develop from ribs that grow sideways and develop into broad flat plates that join up to cover the body. Turtles are ectotherms or \"cold-blooded\", meaning that their internal temperature varies with their direct environment. They are generally opportunistic omnivores and mainly feed on plants and animals with limited movements. Many turtles migrate short distances seasonally. Sea turtles are the only reptiles that migrate long distances to lay their eggs on a favored beach. Turtles have appeared in myths and folktales around the world. Some terrestrial and freshwater species are widely kept as pets. Turtles have been hunted for their meat, for use in traditional medicine, and for their shells. Sea turtles are often killed accidentally as bycatch in fishing nets. Turtle habitats around the world are being destroyed. As a result of these pressures, many species are extinct or threatened with extinction.   \n",
      "\n",
      " Naming and etymology \n",
      "\n",
      " The word turtle is borrowed from the French word tortue or tortre 'turtle, tortoise'. It is a common name and may be used without knowledge of taxonomic distinctions. In North America, it may denote the order as a whole. In Britain, the name is used for sea turtles as opposed to freshwater terrapins and land-dwelling tortoises. In Australia, which lacks true tortoises (family Testudinidae), non-marine turtles were traditionally called tortoises, but more recently turtle has been used for the entire group. The name of the order, Testudines (  teh-STEW-din-eez), is based on the Latin word testudo 'tortoise'; and was coined by German naturalist August Batsch in 1788. The order has also been historically known as Chelonii (Latreille 1800) and Chelonia (Ross and Macartney 1802), which are based on the Ancient Greek word χελώνη (chelone) 'tortoise'. Testudines is the official order name due to the principle of priority. The term chelonian is used as a formal name for members of the group.   \n",
      "\n",
      " Anatomy and physiology \n",
      "\n",
      "   \n",
      " Size \n",
      " The largest living species of turtle (and fourth-largest reptile) is the leatherback turtle, which can reach over 2.7 m (8 ft 10 in) in length and weigh over 500 kg (1,100 lb). The largest known turtle was Archelon ischyros, a Late Cretaceous sea turtle up to 4.5 m (15 ft) long, 5.25 m (17 ft) wide between the tips of the front flippers, and estimated to have weighed over 2,200 kg (4,900 lb). The smallest living turtle is Chersobius signatus of South Africa, measuring no more than 10 cm (3.9 in) in length and weighing 172 g (6.1 oz).   \n",
      " Shell \n",
      "  The shell of a turtle is unique among vertebrates and serves to protect the animal and provide shelter from the elements. It is primarily made of 50–60 bones and consists of two parts: the domed, dorsal (back) carapace and the flatter, ventral (belly) plastron. They are connected by lateral (side) extensions of the plastron. The carapace is fused with the vertebrae and ribs while the plastron is formed from bones of the shoulder girdle, sternum, and gastralia (abdominal ribs). During development, the ribs grow sideways into a carapacial ridge, unique to turtles, entering the dermis (inner skin) of the back to support the carapace. The development is signaled locally by proteins known as fibroblast growth factors that include FGF10. The shoulder girdle in turtles is made up of two bones, the scapula and the coracoid. Both the shoulder and pelvic girdles of turtles are located within the shell and hence are effectively within the rib cage. The trunk ribs grow over the shoulder girdle during development.  The shell is covered in epidermal (outer skin) scales known as scutes that are made of keratin, the same substance that makes up hair and fingernails. Typically, a turtle has 38 scutes on the carapace and 16 on the plastron, giving them 54 in total. Carapace scutes are divided into \"marginals\" around the margin and \"vertebrals\" over the vertebral column, though the scute that overlays the neck is called the \"cervical\". \"Pleurals\" are present between the marginals and vertebrals. Plastron scutes include gulars (throat), humerals, pectorals, abdominals, and anals. Side-necked turtles additionally have \"intergular\" scutes between the gulars. Turtle scutes are usually structured like mosaic tiles, but some species, like the hawksbill sea turtle, have overlapping scutes on the carapace. The shapes of turtle shells vary with the adaptations of the individual species, and sometimes with sex. Land-dwelling turtles are more dome-shaped, which appears to make them more resistant to being crushed by large animals. Aquatic turtles have flatter, smoother shells that allow them to cut through the water. Sea turtles in particular have streamlined shells that reduce drag and increase stability in the open ocean. Some turtle species have pointy or spiked shells that provide extra protection from predators and camouflage against the leafy ground. The lumps of a tortoise shell can tilt its body when it gets flipped over, allowing it to flip back. In male tortoises, the tip of the plastron is thickened and used for butting and ramming during combat. Shells vary in flexibility. Some species, such as box turtles, lack the lateral extensions and instead have the carapace bones fully fused or ankylosed together. Several species have hinges on their shells, usually on the plastron, which allow them to expand and contract. Softshell turtles have rubbery edges, due to the loss of bones. The leatherback turtle has hardly any bones in its shell, but has thick connective tissue and an outer layer of leathery skin.   \n",
      " Head and neck \n",
      "  The turtle's skull is unique among living amniotes (which includes reptiles, birds and mammals); it is solid and rigid with no openings for muscle attachment (temporal fenestrae). Muscles instead attach to recesses in the back of the skull. Turtle skulls vary in shape, from the long and narrow skulls of softshells to the broad and flattened skull of the mata mata. Some turtle species have developed large and thick heads, allowing for greater muscle mass and stronger bites. Turtles that are carnivorous or durophagous (eating hard-shelled animals) have the most powerful bites. For example, the durophagous Mesoclemmys nasuta has a bite force of  432 lbf (1,920 N). Species that are insectivorous, piscivorous (fish-eating), or omnivorous have lower bite forces. Living turtles lack teeth but have beaks made of keratin sheaths along the edges of the jaws. These sheaths may have sharp edges for cutting meat, serrations for clipping plants, or broad plates for breaking mollusks. Sea turtles (Chelonioidea), and several extinct forms, have evolved a bony secondary palate which completely separates the oral and nasal cavities. The necks of turtles are highly flexible, possibly to compensate for their rigid shells. Some species, like sea turtles, have short necks while others, such as snake-necked turtles, have long ones. Despite this, all turtle species have eight neck vertebrae, a consistency not found in other reptiles but similar to mammals. Some snake-necked turtles have both long necks and large heads, limiting their ability to lift them when not in water. Some turtles have folded structures in the larynx or glottis that vibrate to produce sound. Other species have elastin-rich vocal cords.   \n",
      " Limbs and locomotion \n",
      " Due to their heavy shells, turtles are slow-moving on land. A desert tortoise moves at only 0.22–0.48 km/h (0.14–0.30 mph). By contrast, sea turtles can swim at 30 km/h (19 mph). The limbs of turtles are adapted for various means of locomotion and habits and most have five toes. Tortoises are specialized for terrestrial environments and have column-like legs with elephant-like feet and short toes. The gopher tortoise has flattened front limbs for digging in the substrate. Freshwater turtles have more flexible legs and longer toes with webbing, giving them thrust in the water. Some of these species, such as snapping turtles and mud turtles, mainly walk along the water bottom, as they would on land. Others, such as terrapins, swim by paddling with all four limbs, switching between the opposing front and hind limbs, which keeps their direction stable.  Sea turtles and the pig-nosed turtle are the most specialized for swimming. Their front limbs have evolved into flippers while the shorter hind limbs are shaped more like rudders. The front limbs provide most of the thrust for swimming, while the hind limbs serve as stabilizers. Sea turtles such as the green sea turtle rotate the front limb flippers like a bird's wings to generate a propulsive force on both the upstroke and on the downstroke. This is in contrast to similar-sized freshwater turtles (measurements having been made on young animals in each case) such as the Caspian turtle, which uses the front limbs like the oars of a rowing boat, creating substantial negative thrust on the recovery stroke in each cycle. In addition, the streamlining of the marine turtles reduces drag. As a result, marine turtles produce a propulsive force twice as large, and swim six times as fast, as freshwater turtles. The swimming efficiency of young marine turtles is similar to that of fast-swimming fish of open water, like mackerel. Compared to other reptiles, turtles tend to have reduced tails, but these vary in both length and thickness among species and between sexes. Snapping turtles and the big-headed turtle have longer tails; the latter uses it for balance while climbing. The cloaca is found underneath and at the base, and the tail itself houses the reproductive organs. Hence, males have longer tails to contain the penis. In sea turtles, the tail is longer and more prehensile in males, who use it to grasp mates. Several turtle species have spines on their tails.   \n",
      " Senses \n",
      "  Turtles make use of vision to find food and mates, avoid predators, and orient themselves. The retina's light-sensitive cells include both rods for vision in low light, and cones with three different photopigments for bright light, where they have full-color vision. There is possibly a fourth type of cone that detects ultraviolet, as hatchling sea turtles respond experimentally to ultraviolet light, but it is unknown if they can distinguish this from longer wavelengths. A freshwater turtle, the red-eared slider, has an exceptional seven types of cone cell. Sea turtles orient themselves on land by night, using visual features detected in dim light. They can use their eyes in clear surface water, muddy coasts, the darkness of the deep ocean, and also above water. Unlike in terrestrial turtles, the cornea (the curved surface that lets light into the eye) does not help to focus light on the retina, so focusing underwater is handled entirely by the lens, behind the cornea. The cone cells contain oil droplets placed to shift perception toward the red part of the spectrum, improving color discrimination. Visual acuity, studied in hatchlings, is highest in a horizontal band with retinal cells packed about twice as densely as elsewhere. This gives the best vision along the visual horizon. Sea turtles do not appear to use polarized light for orientation as many other animals do. The deep-diving leatherback turtle lacks specific adaptations to low light, such as large eyes, large lenses, or a reflective tapetum. It may rely on seeing the bioluminescence of prey when hunting in deep water. Turtles have no ear openings; the eardrum is covered with scales and encircled by a bony otic capsule, which is absent in other reptiles. Their hearing thresholds are high in comparison to other reptiles, reaching up to 500 Hz in air, but underwater they are more attuned to lower frequencies. The loggerhead sea turtle has been shown experimentally to respond to low sounds, with maximal sensitivity between 100 and 400 Hz. Turtles have olfactory (smell) and vomeronasal receptors along the nasal cavity, the latter of which are used to detect chemical signals. Experiments on green sea turtles showed they could learn to respond to a selection of different odorant chemicals such as triethylamine and cinnamaldehyde, which were detected by olfaction in the nose. Such signals could be used in navigation.   \n",
      " Breathing \n",
      "  The rigid shell of turtles is not capable of expanding and making room for the lungs, as in other amniotes, so they have had to evolve special adaptations for respiration. The lungs of turtles are attached directly to the carapace above while below, connective tissue attaches them to the organs. They have multiple lateral (side) and medial (middle) chambers (the numbers of which vary between species) and one terminal (end) chamber. The lungs are ventilated using specific groups of abdominal muscles attached to the organs that pull and push on them. Specifically, it is the turtle's large liver that compresses the lungs. Underneath the lungs, in the coelomic cavity, the liver is connected to the right lung by the root, and the stomach is directly attached to the left lung, and to the liver by a mesentery. When the liver is pulled down, inhalation begins. Supporting the lungs is a wall or septum, which is thought to prevent them from collapsing. During exhalation, the contraction of the transversus abdominis muscle propels the organs into the lungs and expels air. Conversely, during inhalation, the relaxing and flattening of the oblique abdominis muscle pulls the transversus back down, allowing air back into the lungs. Although many turtles spend large amounts of their lives underwater, all turtles breathe air and must surface at regular intervals to refill their lungs. Depending on the species, immersion periods vary between a minute and an hour. Some species can respire through the cloaca, which contains large sacs that are lined with many finger-like projections that take up dissolved oxygen from the water.   \n",
      " Circulation \n",
      "  Turtles share the linked circulatory and pulmonary (lung) systems of vertebrates, where the three-chambered heart pumps deoxygenated blood through the lungs and then pumps the returned oxygenated blood through the body's tissues. The cardiopulmonary system has both structural and physiological adaptations that distinguish it from other vertebrates. Turtles have a large lung volume and can move blood through non-pulmonary blood vessels, including some within the heart, to avoid the lungs while they are not breathing. They can hold their breath for much longer periods than other reptiles and they can tolerate the resulting low oxygen levels. They can moderate the increase in acidity during anaerobic (non-oxygen-based) respiration by chemical buffering and they can lie dormant for months, in aestivation or brumation. The heart has two atria but only one ventricle. The ventricle is subdivided into three chambers. A muscular ridge enables a complex pattern of blood flow so that the blood can be directed either to the lungs via the pulmonary artery, or to the body via the aorta. The ability to separate the two outflows varies between species. The leatherback has a powerful muscular ridge enabling almost complete separation of the outflows, supporting its actively swimming lifestyle. The ridge is less well developed in freshwater turtles like the sliders (Trachemys). Turtles are capable of enduring periods of anaerobic respiration longer than many other vertebrates. This process breaks down sugars incompletely to lactic acid, rather than all the way to carbon dioxide and water as in aerobic (oxygen-based) respiration. They make use of the shell as a source of additional buffering agents for combating increased acidity, and as a sink for lactic acid.   \n",
      " Osmoregulation \n",
      " In sea turtles, the bladder is one unit and in most freshwater turtles, it is double-lobed. Sea turtle bladders are connected to two small accessory bladders, located at the sides to the neck of the urinary bladder and above the pubis. Arid-living tortoises have bladders that serve as reserves of water, storing up to 20% of their body weight in fluids. The fluids are normally low in solutes, but higher during droughts when the reptile gains potassium salts from its plant diet. The bladder stores these salts until the tortoise finds fresh drinking water. To regulate the amount of salt in their bodies, sea turtles and the brackish-living diamondback terrapin secrete excess salt in a thick sticky substance from their tear glands. Because of this, sea turtles may appear to be \"crying\" when on land.   \n",
      " Thermoregulation \n",
      "  Turtles, like other reptiles, have a limited ability to regulate their body temperature. This ability varies between species, and with body size. Small pond turtles regulate their temperature by crawling out of the water and basking in the sun, while small terrestrial turtles move between sunny and shady places to adjust their temperature. Large species, both terrestrial and marine, have sufficient mass to give them substantial thermal inertia, meaning that they heat up or cool down over many hours. The Aldabra giant tortoise weighs up to some 60 kilograms (130 lb) and is able to allow its temperature to rise to some 33 °C (91 °F) on a hot day, and to fall naturally to around 29 °C (84 °F) by night. Some giant tortoises seek out shade to avoid overheating on sunny days. On Grand Terre Island, food is scarce inland, shade is scarce near the coast, and the  tortoises compete for space under the few trees on hot days. Large males may push smaller females out of the shade, and some then overheat and die. Adult sea turtles, too, have large enough bodies that they can to some extent control their temperature. The largest turtle, the leatherback, can swim in the waters off Nova Scotia, which may be as cold as 8 °C (46 °F), while their body temperature has been measured at up to 12 °C (22 °F) warmer than the surrounding water. To help keep their temperature up, they have a system of countercurrent heat exchange in the blood vessels between their body core and the skin of their flippers. The vessels supplying the head are insulated by fat around the neck.   \n",
      "\n",
      " Behavior \n",
      "\n",
      "   \n",
      " Diet and feeding \n",
      "  Most turtle species are opportunistic omnivores; land-dwelling species are more herbivorous and aquatic ones more carnivorous. Generally lacking speed and agility, most turtles feed either on plant material or on animals with limited movements like mollusks, worms, and insect larvae. Some species, such as the African helmeted turtle and snapping turtles, eat fish, amphibians, reptiles (including other turtles), birds, and mammals. They may take them by ambush but also scavenge. The alligator snapping turtle has a worm-like appendage on its tongue that it uses to lure fish into its mouth. Tortoises are the most herbivorous group, consuming grasses, leaves, and fruits. Many turtle species, including tortoises, supplement their diet with eggshells, animal bones, hair, and droppings for extra nutrients. Turtles generally eat their food in a straightforward way, though some species have special feeding techniques. The yellow-spotted river turtle and the painted turtle may filter feed by skimming the water surface with their mouth and throat open to collect particles of food. When the mouth closes, the throat constricts and water is pushed out through the nostrils and the gap in between the jaws. Some species employ a \"gape-and-suck method\" where the turtle opens its jaws and expands its throat widely, sucking the prey in. The diet of an individual within a species may change with age, sex, and season, and may also differ between populations. In many species, juveniles are generally carnivorous but become more herbivorous as adults. With Barbour's map turtle, the larger female mainly eats mollusks while the male usually eats arthropods. Blanding's turtle may feed mainly on snails or crayfish depending on the population. The European pond turtle has been recorded as being mostly carnivorous much of the year but switching to water lilies during the summer. Some species have developed specialized diets such as the hawksbill, which eats sponges, the leatherback, which feeds on jellyfish, and the Mekong snail-eating turtle.   \n",
      " Communication and intelligence \n",
      "  While popularly thought of as mute, turtles make various sounds to communicate. One study which recorded 53 species found that all of them vocalized. Tortoises may bellow when courting and mating. Various species of both freshwater and sea turtles emit short, low-frequency calls from the time they are in the egg to when they are adults. These vocalizations may serve to create group cohesion when migrating. The oblong turtle has a particularly large vocal range; producing sounds described as clacks, clicks, squawks, hoots, various kinds of chirps, wails, hooos, grunts, growls, blow bursts, howls, and drum rolls. Play behavior has been documented in some turtle species. In the laboratory, Florida red-bellied cooters can learn novel tasks and have demonstrated a long-term memory of at least 7.5 months. Similarly, giant tortoises can learn and remember tasks, and master lessons much faster when trained in groups. Tortoises appear to be able to retain operant conditioning nine years after their initial training. Studies have shown that turtles can navigate the environment using landmarks and a map-like system resulting in accurate direct routes towards a goal. Navigation in turtles have been correlated to high cognition function in the medial cortex region of the brain.   \n",
      " Defense \n",
      "  When sensing danger, a turtle may flee, freeze or withdraw into its shell. Freshwater turtles flee into the water, though the Sonora mud turtle may take refuge on land as the shallow temporary ponds they inhabit make them vulnerable. When startled, a softshell turtle may dive underwater and bury itself under the sea floor. If a predator persists, the turtle may bite or discharge from its cloaca. Several species produce foul-smelling chemicals from musk glands. Other tactics include threat displays and Bell's hinge-back tortoise can play dead. When attacked, big-headed turtle hatchlings squeal, possibly startling the predator.   \n",
      " Migration \n",
      "  Turtles are the only reptiles that migrate long distances, more specifically the marine species that can travel up to thousands of kilometers. Some non-marine turtles, such as the species of Geochelone (terrestrial), Chelydra (freshwater), and Malaclemys (estuarine), migrate seasonally over much shorter distances, up to around 27 km (17 mi), to lay eggs. Such short migrations are comparable to those of some lizards, snakes, and crocodilians. Sea turtles nest in a specific area, such as a beach, leaving the eggs to hatch unattended. The young turtles leave that area, migrating long distances in the years or decades in which they grow to maturity, and then return seemingly to the same area every few years to mate and lay eggs, though the precision varies between species and populations. This \"natal homing\" has appeared remarkable to biologists, though there is now plentiful evidence for it, including from genetics. How sea turtles navigate to their breeding beaches remains unknown. One possibility is imprinting as in salmon, where the young learn the chemical signature, effectively the scent, of their home waters before leaving, and remember that when the time comes for them to return as adults. Another possible cue is the orientation of the Earth's magnetic field at the natal beach. There is experimental evidence that turtles have an effective magnetic sense, and that they use this in navigation. Proof that homing occurs is derived from genetic analysis of populations of loggerheads, hawksbills, leatherbacks, and olive ridleys by nesting place. For each of these species, the populations in different places have their own mitochondrial DNA genetic signatures that persist over the years. This shows that the populations are distinct and that homing must be occurring reliably.   \n",
      "\n",
      " Reproduction and life cycle \n",
      "\n",
      "  Turtles have a wide variety of mating behaviors but do not form pair-bonds or social groups. In green sea turtles, females generally outnumber males. In terrestrial species, males are often larger than females and fighting between males establishes a dominance hierarchy for access to mates. For most semi-aquatic and bottom-walking aquatic species, combat occurs less often. Males of these species instead may use their size advantage to mate forcibly. In fully aquatic species, males are often smaller than females and rely on courtship displays to gain mating access to females.   \n",
      " Courtship and mounting \n",
      " Courtship varies between species, and with habitat. It is often complex in aquatic species, both marine and freshwater, but simpler in the semi-aquatic mud turtles and snapping turtles. A male tortoise bobs his head, then subdues the female by biting and butting her before mounting. The male scorpion mud turtle approaches the female from the rear, and often resorts to aggressive methods such as biting the female's tail or hind limbs, followed by a mounting. Female choice is important in some species, and female green sea turtles are not always receptive. As such, they have evolved behaviors to avoid the male's attempts at copulation, such as swimming away, confronting the male followed by biting or taking up a refusal position with her body vertical, her limbs widely outspread, and her plastron facing the male. If the water is too shallow for the refusal position, the females resort to beaching themselves, as the males do not follow them ashore.  All turtles fertilize internally; mounting and copulation can be difficult. In many species, males have a concave plastron that interlocks with the female's carapace. In species like the Russian tortoise, the male has a lighter shell and longer legs. The high, rounded shape of box turtles are particular obstacles for mounting. The male eastern box turtle leans backward and hooks onto the back of the female's plastron. Aquatic turtles mount in water, and female sea turtles support the mounting male while swimming and diving. During copulation, the male turtle aligns his tail with the female's so he can insert his penis into her cloaca. Some female turtles can store sperm from multiple males and their egg clutches can have multiple sires.   \n",
      " Eggs and hatchlings \n",
      "  Turtles, including sea turtles, lay their eggs on land, although some lay eggs near water that rises and falls in level, submerging the eggs. While most species build nests and lay eggs where they forage, some travel miles. The common snapping turtle walks 5 km (3 mi) on land, while sea turtles travel even further; the leatherback swims some 12,000 km (7,500 mi) to its nesting beaches. Most turtles create a nest for their eggs. Females usually dig a flask-like chamber in the substrate. Other species lay their eggs in vegetation or crevices. Females choose nesting locations based on environmental factors such as temperature and humidity, which are important for developing embryos. Depending on the species, the number of eggs laid varies from one to over 100. Larger females can lay eggs that are greater in number or bigger in size. Compared to freshwater turtles, tortoises deposit fewer but larger eggs. Females can lay multiple clutches throughout a season, particularly in species that experience unpredictable monsoons.  Most mother turtles do no more in the way of parental care than covering their eggs and immediately leaving, though some species guard their nests for days or weeks. Eggs vary between rounded, oval, elongated, and between hard- and soft-shelled. Most species have their sex determined by temperature. In some species, higher temperatures produce females and lower ones produce males, while in others, milder temperatures produce males and both hot and cold extremes produce females. There is experimental evidence that the embryos of Mauremys reevesii can move around inside their eggs to select the best temperature for development, thus influencing their sexual destiny. In other species, sex is determined genetically. The length of incubation for turtle eggs varies from two to three months for temperate species, and four months to over a year for tropical species. Species that live in warm temperate climates can delay their development. Hatching young turtles break out of the shell using an egg tooth, a sharp projection that exists temporarily on their upper beak. Hatchlings dig themselves out of the nest and find safety in vegetation or water. Some species stay in the nest for longer, be it for overwintering or to wait for the rain to loosen the soil for them to dig out. Young turtles are highly vulnerable to predators, both in the egg and as hatchlings. Mortality is high during this period but significantly decreases when they reach adulthood. Most species grow quickly during their early years and slow down when they are mature.   \n",
      " Lifespan \n",
      " Turtles can live long lives. The oldest living turtle and land animal is said to be a Seychelles giant tortoise named Jonathan, who turned 187 in 2019. A Galápagos tortoise named Harriet was collected by Charles Darwin in 1835; it died in 2006, having lived for at least 176 years. Most wild turtles do not reach that age. Turtles keep growing new scutes under the previous scutes every year, allowing researchers to estimate how long they have lived. They also age slowly. The survival rate for adult turtles can reach 99% per year.   \n",
      "\n",
      " Systematics and evolution \n",
      "\n",
      "   \n",
      " Fossil history \n",
      "  Zoologists have sought to explain the evolutionary origin of the turtles, and in particular of their unique shells. In 1914, Jan Versluys proposed that bony plates in the dermis, called osteoderms, fused to the ribs beneath them, later called the \"Polka Dot Ancestor\" by Olivier Rieppel. The theory accounted for the evolution of fossil pareiasaurs from Bradysaurus to Anthodon, but not for how the ribs could have become attached to the bony dermal plates. More recent discoveries have painted a different scenario for the evolution of the turtle's shell. The stem-turtles Eunotosaurus of the Middle Permian, Pappochelys of the Middle Triassic, and Eorhynchochelys of the Late Triassic lacked carapaces and plastrons but had shortened torsos, expanded ribs, and lengthened dorsal vertebrae. Also in the Late Triassic, Odontochelys had a partial shell consisting of a complete bony plastron and an incomplete carapace. The development of a shell reached completion with the Late Triassic Proganochelys, with its fully developed carapace and plastron. Adaptations that lead to the evolution of the shell may have originally been for digging and a fossorial lifestyle. The oldest known members of the Pleurodira lineage are the Platychelyidae, from the Late Jurassic. The oldest known unambiguous cryptodire is Sinaspideretes, a close relative of softshell turtles, from the Late Jurassic of China. During the Late Cretaceous and Cenozoic, members of the pleurodire families Bothremydidae and Podocnemididae became widely distributed in the Northern Hemisphere due to their coastal habits. The oldest known soft-shelled turtles and sea turtles appeared during the Early Cretaceous. Tortoises originated in Asia during the Eocene. A late surviving group of stem-turtles, the Meiolaniidae, survived in Australasia into the Pleistocene and Holocene.   \n",
      " External relationships \n",
      " The turtles' exact ancestry has been disputed. It was believed they were the only surviving branch of the ancient evolutionary grade Anapsida, which includes groups such as procolophonids and pareiasaurs. All anapsid skulls lack a temporal opening while all other living amniotes have temporal openings. It was later suggested that the anapsid-like turtle skulls may be due to backward evolution rather than to anapsid descent. Fossil evidence has shown that early stem-turtles possessed small temporal openings. Some early morphological phylogenetic studies have placed turtles closer to Lepidosauria (tuataras, lizards, and snakes) than to Archosauria (crocodilians and birds). By contrast, several molecular studies place turtles either within Archosauria, or, more commonly, as a sister group to extant archosaurs, though an analysis conducted by Tyler Lyson and colleagues (2012) recovered turtles as the sister group of lepidosaurs instead. Ylenia Chiari and colleagues (2012) analyzed 248 nuclear genes from 16 vertebrates and suggested that turtles share a more recent common ancestor with birds and crocodilians. The date of separation of turtles and birds and crocodilians was estimated to be 255 million years ago during the Permian. Through genomic-scale phylogenetic study of ultra-conserved elements (UCEs) to clarify the placement of turtles within reptiles, Nicholas Crawford and colleagues (2012) similarly found that turtles are closer to birds and crocodilians. Using the draft (unfinished) genome sequences of the green sea turtle and the Chinese softshell turtle, Zhuo Wang and colleagues (2013) concluded that turtles are likely a sister group of crocodilians and birds. The external phylogeny of the turtles is shown in the cladogram below.   \n",
      " Internal relationships \n",
      " Modern turtles and their extinct relatives with a complete shell are classified within the clade Testudinata. The most recent common ancestor of living turtles, corresponding to the split between Pleurodira (side-necked species) and Cryptodira (hidden necked species), is estimated to have occurred around 210 million years ago during the Late Triassic. Robert Thompson and colleagues (2021) comment that living turtles have low diversity, relative to how long they existed. Diversity has been stable, according to their analysis, except for a single rapid increase around the Eocene-Oligocene boundary some 30 million years ago, and a large regional extinction at roughly the same time. They suggest that global climate change caused both events, as the cooling and drying caused the land to become arid and turtles to become extinct there, while new continental margins opened up by the climate change provided habitats for other species to evolve. The cladogram, from Nicholas Crawford and colleagues 2015, shows the internal phylogeny of the Testudines down to the level of families. The analysis by  Thompson and colleagues in 2021 supports the same structure down to the family level.   \n",
      " Differences between the two suborders \n",
      "  Turtles are divided into two living suborders: Cryptodira and Pleurodira. The two groups differ in the way the neck is retracted for protection. Pleurodirans retract their neck to the side and in front of the shoulder girdles, whereas cryptodirans retract their neck backward into their shell. These motions are enabled by the morphology and arrangement of neck vertebrae. Sea turtles (which belong to Cryptodira) have mostly lost the ability to retract their heads. The adductor muscles in the lower jaw create a pulley-like system in both subgroups. However, the bones that the muscles articulate with differ. In Pleurodira, the pulley is formed with the pterygoid bones of the palate, but in Cryptodira the pulley is formed with the otic capsule. Both systems help to vertically redirect the adductor muscles and maintain a powerful bite. A further difference between the suborders is the attachment of the pelvis. In Cryptodira, the pelvis is free, linked to the shell only by ligaments. In Pleurodira, the pelvis is sutured, joined with bony connections, to the carapace and to the plastron, creating a pair of large columns of bone at the back end of the turtle, linking the two parts of the shell.   \n",
      "\n",
      " Distribution and habitat \n",
      "\n",
      " Turtles are widely distributed across the world's continents, oceans, and islands with terrestrial, fully aquatic, and semi-aquatic species. Sea turtles are mainly tropical and subtropical, but leatherbacks can be found in colder areas of the Atlantic and Pacific. Living Pleurodira all live in freshwater and are found only in the Southern Hemisphere. The Cryptodira include terrestrial, freshwater, and marine species, and these range more widely. The world regions richest in non-marine turtle species are the Amazon basin, the Gulf of Mexico drainages of the United States, and parts of South and Southeast Asia. For turtles in colder climates, their distribution is limited by constraints on reproduction, which is reduced by long hibernations. North American species barely range above the southern Canadian border. Some turtles are found at high altitudes, for example, the species Terrapene ornata occurs up to 2,000 m (6,600 ft) in New Mexico. Conversely, the leatherback sea turtle can dive over 1,200 m (3,900 ft). Species of the genus Gopherus can tolerate both below freezing and over 40 °C (104 °F) in body temperature, though they are most active at 26–34 °C (79–93 °F).   \n",
      "\n",
      " Conservation \n",
      "\n",
      "  Among vertebrate orders, turtles are second only to primates in the percentage of threatened species. 360 modern species have existed since 1500 AD. Of these, 51–56% are considered threatened and 60% considered threatened or extinct. Turtles face many threats, including habitat destruction, harvesting for consumption, the pet trade, light pollution, and climate change. Asian species have a particularly high extinction risk, primarily due to their long-term unsustainable exploitation for food and medicine, and about 83% of Asia's non-marine turtle species are considered threatened. As of 2021, turtle extinction is progressing much faster than during the Cretaceous-Tertiary extinction. At this rate, all turtles could be extinct in a few centuries. Turtle hatcheries can be set up when protection against flooding, erosion, predation, or heavy poaching is required. Chinese markets have sought to satisfy an increasing demand for turtle meat with farmed turtles. In 2007 it was estimated that over a thousand turtle farms operated in China. All the same, wild turtles continue to be caught and sent to market in large numbers, resulting in what conservationists have called \"the Asian turtle crisis\". In the words of the biologist George Amato, the hunting of turtles \"vacuumed up entire species from areas in Southeast Asia\", even as biologists still did not know how many species lived in the region. In 2000, all the Asian box turtles were placed on the CITES list of endangered species. Harvesting wild turtles is legal in some American states, and there has been a growing demand for American turtles in China. The Florida Fish and Wildlife Conservation Commission estimated in 2008 that around 3,000 pounds of softshell turtles were exported weekly via Tampa International Airport. However, the great majority of turtles exported from the US between 2002 and 2005 were farmed. Large numbers of sea turtles are accidentally killed in longlines, gillnets, and trawling nets as bycatch. A 2010 study suggested that over 8 million had been killed between 1990 and 2008; the Eastern Pacific and the Mediterranean were identified as among the areas worst affected. Since the 1980s, the United States has required all shrimp trawlers to fit their nets with turtle excluder devices that prevent turtles from being entangled in the net and drowning. More locally, other human activities are affecting marine turtles. In Australia, Queensland's shark culling program, which uses shark nets and drum lines, has killed over 5,000 turtles as bycatch between 1962 and 2015; including 719 loggerhead turtles and 33 hawksbill sea turtles, which are listed as critically endangered. Native turtle populations can also be threatened by invasive ones. The central North American red-eared slider turtle has been listed among the \"world's worst invasive species\", pet turtle having been released globally. They appear to compete with native turtle species in eastern and western North America, Europe, and Japan.   \n",
      "\n",
      " Human uses \n",
      "\n",
      "   \n",
      " On space flights \n",
      " Two tortoises were on the Soviet Union's September 1968 Zond 5 circumlunar flight, making them the first earthly living things to travel to the vicinity of the Moon. Turtles were also on the Zond 6 (1968) and the Zond 7 (1969) circumlunar flights.   \n",
      " In culture \n",
      "  \t\t \t\t\t \t\t\t \t\t \t\t \t\t\t \t\t\t \t\t \t\t \t\t\t \t\t\t \t\t \t\t \t\t\t \t\t\t \t\t \t\t \t\t\t \t\t\t \t\t \t\t \t\t\t \t\t\t \t\t  Turtles have featured in human cultures across the world since ancient times. They are generally viewed positively despite not being \"cuddly\" or flashy; their association with the ancient times and old age have contributed to their endearing image. In Hindu mythology, the World Turtle, named Kurma or Kacchapa, supports four elephants on his back; they, in turn, carry the weight of the whole world on their backs. The turtle is one of the ten avatars or incarnations of the god Vishnu. The yoga pose Kurmasana is named for the avatar. World Turtles are found in Native American cultures including the Algonquian, Iroquois, and Lenape. They tell many versions of the creation story of Turtle Island. One version has Muskrat pile up earth on Turtle's back, creating the continent of North America. An Iroquois version has the pregnant Sky Woman fall through a hole in the sky between a tree's roots, where she is caught by birds who land her safely on Turtle's back; the Earth grows around her. The turtle here is altruistic, but the world is a heavy burden, and the turtle sometimes shakes itself to relieve the load, causing earthquakes. A turtle was the symbol of the Ancient Mesopotamian god Enki from the 3rd millennium BCE onward. An ancient Greek origin myth told that only the tortoise refused the invitation of the gods Zeus and Hera to their wedding, as it preferred to stay at home. Zeus then ordered it to carry its house with it, ever after. Another of their gods, Hermes, invented a seven-stringed lyre made with the shell of a tortoise. In the Shang dynasty Chinese practice of plastromancy, dating back to 1200 BCE, oracles were obtained by inscribing questions on turtle plastrons using the oldest known form of Chinese characters, burning the plastron, and interpreting the resulting cracks. Later, the turtle was one of the four sacred animals  in Confucianism, while in the Han period, steles were mounted on top of stone turtles, later linked with Bixi, the turtle-shelled son of the Dragon King. Marine turtles feature significantly in Australian Aboriginal art. The army of Ancient Rome used the testudo (\"tortoise\") formation where soldiers would form a shield wall for protection. In Aesop's Fables, \"The Tortoise and the Hare\" tells how an unequal race may be won by the slower partner. Lewis Carroll's 1865 Alice's Adventures in Wonderland features a Mock Turtle, named for a soup meant to imitate the expensive soup made from real turtle meat. In 1896, the French playwright Léon Gandillot wrote a comedy in three acts named La Tortue that was \"a Parisian sensation\" in its run in France, and came to the Manhattan Theatre, Broadway, New York, in 1898 as The Turtle. A \"cosmic turtle\" and the island motif reappear in Gary Snyder's 1974 novel Turtle Island, and again in Terry Pratchett's Discworld series as Great A'Tuin, starting with the 1983 novel The Colour of Magic. It is supposedly of the species Chelys galactica, the galactic turtle, complete with four elephants on its back to support Discworld. A giant fire-breathing turtle called Gamera is the star of a series of Japanese monster movies in the kaiju genre and has had twelve films from 1965 to 2006. Turtles have been featured in comic books and animations such as the 1984 Teenage Mutant Ninja Turtles.   \n",
      " As pets \n",
      " Some turtles, particularly small terrestrial and freshwater species, are kept as pets.  The demand for pet turtles increased in the 1950s, with the US being the main supplier, particularly of farm-bred red-eared sliders. The popularity for exotic pets has led to an increase in illegal wildlife trafficking. Around 21% of the value of live animal trade is in reptiles, and turtles are among the more popularly traded species. Poor husbandry of tortoises can cause chronic rhinitis (nasal swelling), overgrown beaks, hyperparathyroidism (which softens their skeleton), constipation, various reproductive problems, and injuries from dogs. In the early 20th century, people in the United States have organized and gambled on turtle races.   \n",
      " As food and other uses \n",
      " The flesh of captured wild turtles continues to be eaten in Asian cultures, while turtle soup was once a popular dish in English cuisine. Gopher tortoise stew has been popular with some groups in Florida. The supposed aphrodisiac or medicinal properties of turtle eggs created a large trade for them in Southeast Asia. Hard-shell turtle plastrons and soft-shell carapaces are widely used in traditional Chinese medicine; Taiwan imported nearly 200 metric tons of hard-shells from its neighbors yearly from 1999 to 2008. A popular medicinal preparation based on herbs and turtle shells is guilinggao jelly. The substance tortoiseshell, usually from the hawksbill turtle, has been used for centuries to make jewelry, tools, and ornaments around the Western Pacific. Hawksbills have accordingly been hunted for their shells. The trading of tortoiseshell was internationally banned in 1977 by CITES. Some cultures have used turtle shells to make music: Native American shamans made them into ceremonial rattles, while Aztecs, Mayas, and Mixtecs made ayotl drums.  \t\t \t\t\t \t\t\t \t\t \t\t \t\t\t \t\t\t \t\t \t\t \t\t\t \t\t\t \t\t \t\t \t\t\t \t\t\t \t\t \t\t \t\t\t \t\t\t \t\t   \n",
      "\n",
      " \n",
      "Got GPT's response. String length : 2390\n",
      "subject_words:  [(None, 'Turtle', 'turtle')]\n",
      "object_words:  [['reptiles', 'Reptiles', 'reptiles']]\n",
      "The file /mnt/nas2/seogyeong/23winter/kfc_dataset/organized_data.json was not found. An empty structure will be used instead.\n",
      "subject_words:  [(None, 'Turtle', 'turtle')]\n",
      "object_words:  []\n",
      "subject_words:  [(None, 'Turtle', 'turtle')]\n",
      "object_words:  [['Pleurodira', 'Pleurodira', 'pleurodira'], ['Side-necked turtles', 'Pleurodira', 'pleurodira']]\n",
      "subject_words:  [(None, 'Turtle', 'turtle')]\n",
      "object_words:  [['Cryptodira', 'Cryptodira', 'cryptodira'], ['Cryptodira', 'Cryptodira', 'cryptodira']]\n",
      "subject_words:  [['Pleurodira', 'Pleurodira', 'pleurodira'], ['Side-necked turtles', 'Pleurodira', 'pleurodira']]\n",
      "object_words:  [(None, 'Turtle', 'turtle')]\n",
      "subject_words:  [['Cryptodira', 'Cryptodira', 'cryptodira'], ['Cryptodira', 'Cryptodira', 'cryptodira']]\n",
      "object_words:  [(None, 'Turtle', 'turtle')]\n",
      "subject_words:  []\n",
      "object_words:  [(None, 'Turtle', 'turtle'), ['species', 'Species', 'species']]\n",
      "subject_words:  [(None, 'Turtle', 'turtle'), ['species', 'Species', 'species']]\n",
      "object_words:  [['tortoises', 'Tortoise', 'tortoise'], ['tortoise', 'Tortoise', 'tortoise']]\n",
      "subject_words:  [(None, 'Turtle', 'turtle'), ['species', 'Species', 'species']]\n",
      "object_words:  [(None, 'Turtle', 'turtle'), ['sea turtles', 'Sea turtle', 'sea_turtle'], ['sea turtles', 'Sea turtle', 'sea_turtle']]\n",
      "subject_words:  [(None, 'Turtle', 'turtle')]\n",
      "object_words:  []\n",
      "subject_words:  [(None, 'Turtle', 'turtle')]\n",
      "object_words:  [['amniotes', 'Amniote', 'amniote'], ['amniotes', 'Amniote', 'amniote']]\n",
      "subject_words:  [['amniotes', 'Amniote', 'amniote'], ['amniotes', 'Amniote', 'amniote']]\n",
      "object_words:  [['reptiles', 'Reptiles', 'reptiles'], ['mammals', 'Mammal', 'mammal']]\n",
      "subject_words:  [(None, 'Turtle', 'turtle')]\n",
      "object_words:  []\n",
      "subject_words:  [(None, 'Turtle', 'turtle')]\n",
      "object_words:  []\n",
      "subject_words:  [(None, 'Turtle', 'turtle')]\n",
      "object_words:  []\n",
      "subject_words:  []\n",
      "object_words:  []\n",
      "subject_words:  [(None, 'Turtle', 'turtle')]\n",
      "object_words:  []\n",
      "subject_words:  [(None, 'Turtle', 'turtle')]\n",
      "object_words:  []\n",
      "subject_words:  [(None, 'Turtle', 'turtle'), ['sea turtles', 'Sea turtle', 'sea_turtle'], ['sea turtles', 'Sea turtle', 'sea_turtle']]\n",
      "object_words:  []\n",
      "subject_words:  [(None, 'Turtle', 'turtle')]\n",
      "object_words:  []\n",
      "subject_words:  [(None, 'Turtle', 'turtle'), ['sea turtles', 'Sea turtle', 'sea_turtle'], ['sea turtles', 'Sea turtle', 'sea_turtle']]\n",
      "object_words:  []\n",
      "subject_words:  [(None, 'Turtle', 'turtle')]\n",
      "object_words:  []\n",
      "subject_words:  [(None, 'Turtle', 'turtle'), ['common name', 'Common name', 'common_name']]\n",
      "object_words:  []\n",
      "subject_words:  [(None, 'Turtle', 'turtle'), ['common name', 'Common name', 'common_name']]\n",
      "object_words:  []\n",
      "subject_words:  [(None, 'Turtle', 'turtle'), ['common name', 'Common name', 'common_name']]\n",
      "object_words:  []\n",
      "subject_words:  []\n",
      "object_words:  [['Latin', 'Latin', 'latin']]\n",
      "subject_words:  [(None, 'Turtle', 'turtle'), ['leatherback turtle', 'Leatherback_turtle', 'leatherback_turtle']]\n",
      "object_words:  [(None, 'Turtle', 'turtle')]\n",
      "subject_words:  [['Archelon ischyros', 'Archelon', 'archelon']]\n",
      "object_words:  [(None, 'Turtle', 'turtle')]\n",
      "subject_words:  [['Chersobius signatus', 'Chersobius signatus', 'speckled_padloper_tortoise']]\n",
      "object_words:  [(None, 'Turtle', 'turtle')]\n",
      "subject_words:  [(None, 'Turtle', 'turtle')]\n",
      "object_words:  [['vertebrates', 'Vertebrate', 'vertebrate']]\n",
      "subject_words:  []\n",
      "object_words:  []\n",
      "subject_words:  []\n",
      "object_words:  []\n",
      "subject_words:  [(None, 'Turtle', 'turtle')]\n",
      "object_words:  []\n",
      "subject_words:  [(None, 'Turtle', 'turtle')]\n",
      "object_words:  []\n",
      "subject_words:  [(None, 'Turtle', 'turtle'), ['sea turtles', 'Sea turtle', 'sea_turtle'], ['sea turtles', 'Sea turtle', 'sea_turtle'], ['green sea turtle', 'Green sea turtle', 'green_sea_turtle']]\n",
      "object_words:  []\n",
      "subject_words:  [(None, 'Turtle', 'turtle')]\n",
      "object_words:  []\n",
      "subject_words:  [(None, 'Turtle', 'turtle')]\n",
      "object_words:  []\n",
      "subject_words:  [(None, 'Turtle', 'turtle')]\n",
      "object_words:  []\n",
      "subject_words:  [(None, 'Turtle', 'turtle')]\n",
      "object_words:  [['vertebrates', 'Vertebrate', 'vertebrate']]\n",
      "subject_words:  [(None, 'Turtle', 'turtle')]\n",
      "object_words:  []\n",
      "subject_words:  [['Pleurodira', 'Pleurodira', 'pleurodira'], ['Side-necked turtles', 'Pleurodira', 'pleurodira']]\n",
      "object_words:  []\n",
      "subject_words:  [['Cryptodira', 'Cryptodira', 'cryptodira'], ['Cryptodira', 'Cryptodira', 'cryptodira']]\n",
      "object_words:  []\n",
      "subject_words:  [['Cryptodira', 'Cryptodira', 'cryptodira'], ['Cryptodira', 'Cryptodira', 'cryptodira']]\n",
      "object_words:  []\n",
      "subject_words:  [['Pleurodira', 'Pleurodira', 'pleurodira'], ['Side-necked turtles', 'Pleurodira', 'pleurodira']]\n",
      "object_words:  []\n",
      "subject_words:  [(None, 'Turtle', 'turtle')]\n",
      "object_words:  []\n",
      "subject_words:  [(None, 'Turtle', 'turtle')]\n",
      "object_words:  []\n",
      "subject_words:  [(None, 'Turtle', 'turtle')]\n",
      "object_words:  []\n"
     ]
    }
   ],
   "source": [
    "preprocess.extract_triplet(\"turtle\")"
   ]
  },
  {
   "cell_type": "code",
   "execution_count": 1,
   "id": "dc9dca23-66fe-4a8f-91a0-52e287352f3c",
   "metadata": {},
   "outputs": [],
   "source": [
    "from cpnet_wiki import test_geo\n",
    "from cpnet_wiki import test_animal\n",
    "from cpnet_wiki import test_people\n",
    "from cpnet_wiki import test_incident"
   ]
  },
  {
   "cell_type": "code",
   "execution_count": 2,
   "id": "da122964-8e12-466c-981f-b76e63817c7a",
   "metadata": {},
   "outputs": [
    {
     "data": {
      "text/plain": [
       "False"
      ]
     },
     "execution_count": 2,
     "metadata": {},
     "output_type": "execute_result"
    }
   ],
   "source": [
    "test_animal(\"Species\")"
   ]
  },
  {
   "cell_type": "code",
   "execution_count": 1,
   "id": "0dc2807c-0787-4f44-a1e5-fb82fd50cd1f",
   "metadata": {},
   "outputs": [],
   "source": [
    "import question"
   ]
  },
  {
   "cell_type": "code",
   "execution_count": 2,
   "id": "2b500675-4a91-4ca3-aed4-5463780dec48",
   "metadata": {},
   "outputs": [
    {
     "name": "stdout",
     "output_type": "stream",
     "text": [
      "\n",
      "utils/question.py extract_hops(turtle, [], []) Start\n",
      "{'triplet': '(\"Pleurodira\", \"known as\", \"side necked turtles\")', 'start word': 'Turtle', 'end word': 'Pleurodira', 'source': {'name': 'Turtle', 'line': 5}, 'cpnet': {'start word': 'turtle', 'end word': 'pleurodira'}}\n"
     ]
    }
   ],
   "source": [
    "print(question.extract_hops(\"turtle\"))"
   ]
  },
  {
   "cell_type": "code",
   "execution_count": 3,
   "id": "6a03c1b7-29ab-4ff3-aa48-be9cda140dcc",
   "metadata": {},
   "outputs": [
    {
     "name": "stdout",
     "output_type": "stream",
     "text": [
      "\n",
      "utils/question.py extract_hops(turtle, ['Pleurodira'], []) Start\n",
      "{'triplet': '(\"Turtles\", \"are\", \"amniotes\")', 'start word': 'Turtle', 'end word': 'Amniote', 'source': {'name': 'Turtle', 'line': 11}, 'cpnet': {'start word': 'turtle', 'end word': 'amniote'}}\n"
     ]
    }
   ],
   "source": [
    "print(question.extract_hops(\"turtle\", failed_words = ['Pleurodira']))"
   ]
  },
  {
   "cell_type": "code",
   "execution_count": 4,
   "id": "e9fe6719-1bd0-4ac9-9c7b-78edc25d4b4f",
   "metadata": {},
   "outputs": [
    {
     "name": "stdout",
     "output_type": "stream",
     "text": [
      "\n",
      "utils/question.py extract_hops(turtle, ['Amniote'], []) Start\n",
      "{'triplet': '(\"Chersobius signatus\", \"smallest living\", \"turtle\")', 'start word': 'Turtle', 'end word': 'Chersobius signatus', 'source': {'name': 'Turtle', 'line': 29}, 'cpnet': {'start word': 'turtle', 'end word': 'speckled_padloper_tortoise'}}\n"
     ]
    }
   ],
   "source": [
    "print(question.extract_hops(\"turtle\", failed_words = ['Amniote']))"
   ]
  },
  {
   "cell_type": "code",
   "execution_count": 1,
   "id": "e446ad6d-c16a-4986-83b1-d90ac6029baa",
   "metadata": {},
   "outputs": [],
   "source": [
    "import multiple_choice"
   ]
  },
  {
   "cell_type": "code",
   "execution_count": 2,
   "id": "13a6580e-4f37-439f-977c-100e64decb12",
   "metadata": {},
   "outputs": [
    {
     "name": "stdout",
     "output_type": "stream",
     "text": [
      "[]\n"
     ]
    },
    {
     "ename": "NameError",
     "evalue": "name 'choose_by_wiki' is not defined",
     "output_type": "error",
     "traceback": [
      "\u001b[0;31m---------------------------------------------------------------------------\u001b[0m",
      "\u001b[0;31mNameError\u001b[0m                                 Traceback (most recent call last)",
      "Cell \u001b[0;32mIn[2], line 1\u001b[0m\n\u001b[0;32m----> 1\u001b[0m multiple_choice\u001b[38;5;241m.\u001b[39mfinal_choice(\u001b[38;5;124m\"\u001b[39m\u001b[38;5;124mTurtle\u001b[39m\u001b[38;5;124m\"\u001b[39m)\n",
      "File \u001b[0;32m/home/evelyn/kfc/question_generation/utils/multiple_choice.py:154\u001b[0m, in \u001b[0;36mfinal_choice\u001b[0;34m(answer, options)\u001b[0m\n\u001b[1;32m    153\u001b[0m \u001b[38;5;28;01mdef\u001b[39;00m \u001b[38;5;21mfinal_choice\u001b[39m(answer, options \u001b[38;5;241m=\u001b[39m \u001b[38;5;241m5\u001b[39m):\n\u001b[0;32m--> 154\u001b[0m     choice_list \u001b[38;5;241m=\u001b[39m choiceword_list(answer)\n\u001b[1;32m    155\u001b[0m     \u001b[38;5;28mprint\u001b[39m(choice_list)\n\u001b[1;32m    156\u001b[0m     \u001b[38;5;28mprint\u001b[39m()\n",
      "File \u001b[0;32m/home/evelyn/kfc/question_generation/utils/multiple_choice.py:94\u001b[0m, in \u001b[0;36mchoiceword_list\u001b[0;34m(start_word)\u001b[0m\n\u001b[1;32m     92\u001b[0m needed  \u001b[38;5;241m=\u001b[39m \u001b[38;5;241m4\u001b[39m \u001b[38;5;241m-\u001b[39m \u001b[38;5;28mlen\u001b[39m(choice_list)\n\u001b[1;32m     93\u001b[0m \u001b[38;5;28mprint\u001b[39m(choice_list)\n\u001b[0;32m---> 94\u001b[0m choice_list \u001b[38;5;241m+\u001b[39m\u001b[38;5;241m=\u001b[39m choose_by_wiki(start_word, needed, \u001b[38;5;241m3\u001b[39m)\n\u001b[1;32m     95\u001b[0m \u001b[38;5;28mprint\u001b[39m(choice_list)\n\u001b[1;32m     96\u001b[0m choice_list \u001b[38;5;241m=\u001b[39m \u001b[38;5;28mlist\u001b[39m(\u001b[38;5;28mset\u001b[39m(choice_list))\n",
      "\u001b[0;31mNameError\u001b[0m: name 'choose_by_wiki' is not defined"
     ]
    }
   ],
   "source": [
    "multiple_choice.final_choice(\"Turtle\")"
   ]
  },
  {
   "cell_type": "code",
   "execution_count": 1,
   "id": "173a54dd-7e3f-42ec-8815-2dea306114b5",
   "metadata": {},
   "outputs": [],
   "source": [
    "from triplet_extract_ratio import triplet_extract_ratio"
   ]
  },
  {
   "cell_type": "code",
   "execution_count": 2,
   "id": "70cf6138-9ace-41ec-94e9-9da4d874d941",
   "metadata": {},
   "outputs": [],
   "source": [
    "a = dict()\n",
    "a[\"name\"] = 'Turtle'\n",
    "a[\"line\"] = 3"
   ]
  },
  {
   "cell_type": "code",
   "execution_count": 3,
   "id": "3ae661b8-114d-43c6-9c9c-c4d3b2c42db1",
   "metadata": {},
   "outputs": [
    {
     "name": "stdout",
     "output_type": "stream",
     "text": [
      "['(\"Turtles\", \"divided into\", \"Pleurodira\")\\n']\n",
      "\n",
      "['(\"Turtles\", \"are\", \"reptiles\")\\n', '(\"Turtles\", \"characterized by\", \"special shell\")\\n', '(\"Turtles\", \"divided into\", \"Cryptodira\")\\n', '(\"Pleurodira\", \"known as\", \"side necked turtles\")\\n', '(\"Cryptodira\", \"known as\", \"hidden necked turtles\")\\n', '(\"There are\", \"living and recently extinct\", \"species of turtles\")\\n', '(\"Species of turtles\", \"include\", \"tortoises\")\\n', '(\"Species of turtles\", \"include\", \"sea turtles\")\\n', '(\"Turtles\", \"found on\", \"most continents\")\\n', '(\"Turtles\", \"are\", \"amniotes\")\\n', '(\"Amniotes\", \"include\", \"reptiles, birds, and mammals\")\\n', '(\"Turtles\", \"breathe\", \"air\")\\n', '(\"Turtle shells\", \"made of\", \"bone\")\\n', '(\"Turtle shells\", \"consist of\", \"carapace and plastron\")\\n', '(\"Carapace\", \"develops from\", \"ribs\")\\n', '(\"Turtles\", \"known as\", \"ectotherms\")\\n', '(\"Turtles\", \"feed on\", \"plants and animals\")\\n', '(\"Sea turtles\", \"migrate long distances to\", \"lay eggs\")\\n', '(\"Turtles\", \"appeared in\", \"myths and folktales\")\\n', '(\"Sea turtles\", \"often killed by\", \"fishing nets\")\\n', '(\"Turtle\", \"borrowed from\", \"French word tortue or tortre\")\\n', '(\"Common name for turtle\", \"used in\", \"North America\")\\n', '(\"Common name for turtle\", \"used for sea turtles in\", \"Britain\")\\n', '(\"Common name for turtle\", \"used for entire group in\", \"Australia\")\\n', '(\"Testudines\", \"is based on\", \"Latin word testudo\")\\n', '(\"Leatherback turtle\", \"largest living species of\", \"turtle\")\\n', '(\"Archelon ischyros\", \"largest known\", \"turtle\")\\n', '(\"Chersobius signatus\", \"smallest living\", \"turtle\")\\n', '(\"Turtle shell\", \"unique among\", \"vertebrates\")\\n', '(\"Carapace\", \"fused with\", \"vertebrae and ribs\")\\n', '(\"Plastron\", \"formed from bones of\", \"shoulder girdle, sternum, and gastralia\")\\n', '(\"Turtles\", \"lack\", \"temporal fenestrae\")\\n', '(\"Turtles\", \"have beaks made of\", \"keratin\")\\n', '(\"Green sea turtle\", \"swims with\", \"front limb flippers\")\\n', '(\"Turtles\", \"make use of\", \"vision\")\\n', '(\"Turtles\", \"have olfactory and vomeronasal receptors\", \"for smell\")\\n', '(\"Turtles\", \"breath with\", \"special adaptations\")\\n', '(\"Turtles\", \"share linked circulatory and pulmonary systems\", \"with vertebrates\")\\n', '(\"Turtles\", \"face threat of\", \"extinction\")\\n', '(\"Pleurodira\", \"retract neck to\", \"the side\")\\n', '(\"Cryptodira\", \"retract head\", \"backward into shell\")\\n', '(\"Cryptodira\", \"pelvis free\", \"linked by ligaments\")\\n', '(\"Pleurodira\", \"pelvis is\", \"sutured to carapace and plastron\")\\n', '(\"Turtles\", \"face\", \"many threats\")\\n', '(\"Turtles\", \"used in\", \"traditional medicine\")\\n', '(\"Turtles\", \"used to make\", \"jewelry, tools, and ornaments\")\\n']\n",
      "range(1, 48) 1\n",
      "[6]\n"
     ]
    }
   ],
   "source": [
    "print(triplet_extract_ratio('temporary1', [a], 0.5))"
   ]
  },
  {
   "cell_type": "code",
   "execution_count": null,
   "id": "a6bbc4d7-b977-46b8-8da9-3a6b105aec39",
   "metadata": {},
   "outputs": [],
   "source": []
  }
 ],
 "metadata": {
  "kernelspec": {
   "display_name": "Python 3 (ipykernel)",
   "language": "python",
   "name": "python3"
  },
  "language_info": {
   "codemirror_mode": {
    "name": "ipython",
    "version": 3
   },
   "file_extension": ".py",
   "mimetype": "text/x-python",
   "name": "python",
   "nbconvert_exporter": "python",
   "pygments_lexer": "ipython3",
   "version": "3.11.5"
  }
 },
 "nbformat": 4,
 "nbformat_minor": 5
}
